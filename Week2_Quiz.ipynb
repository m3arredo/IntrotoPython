{
 "cells": [
  {
   "cell_type": "code",
   "execution_count": 24,
   "id": "b59a8418-cedf-4a78-9752-960e48d2f9ba",
   "metadata": {},
   "outputs": [],
   "source": [
    "import numpy as np"
   ]
  },
  {
   "cell_type": "code",
   "execution_count": 25,
   "id": "f98c69d7-47b9-4b56-a2b9-0499f8600d23",
   "metadata": {},
   "outputs": [
    {
     "data": {
      "text/plain": [
       "array([[1, 2, 3],\n",
       "       [4, 5, 6],\n",
       "       [7, 8, 9]])"
      ]
     },
     "execution_count": 25,
     "metadata": {},
     "output_type": "execute_result"
    }
   ],
   "source": [
    "an_array = np.array( [ [1,2,3] , [4,5,6] ,[7,8,9] ])\n",
    "an_array\n",
    "           "
   ]
  },
  {
   "cell_type": "code",
   "execution_count": 26,
   "id": "245946b6-e041-4ff5-884d-321d14ff6983",
   "metadata": {},
   "outputs": [],
   "source": [
    "arr_2 = np.transpose(an_array)"
   ]
  },
  {
   "cell_type": "code",
   "execution_count": 27,
   "id": "b928060e-cb42-4732-80ab-be795c47853e",
   "metadata": {},
   "outputs": [
    {
     "name": "stdout",
     "output_type": "stream",
     "text": [
      "[[ 2  8 14]\n",
      " [ 4 10 16]\n",
      " [ 6 12 18]]\n"
     ]
    }
   ],
   "source": [
    "multiplied_array = arr_2 * 2\n",
    "\n",
    "print(multiplied_array)"
   ]
  },
  {
   "cell_type": "code",
   "execution_count": 29,
   "id": "638dbe4b-c1e9-4be2-978a-c65e394d80ae",
   "metadata": {},
   "outputs": [],
   "source": [
    "new_array = np.array([1,2,3] , dtype = np.complex128)"
   ]
  },
  {
   "cell_type": "code",
   "execution_count": 30,
   "id": "2c17413c-a2e6-40d1-8987-931486753fb3",
   "metadata": {},
   "outputs": [
    {
     "data": {
      "text/plain": [
       "16"
      ]
     },
     "execution_count": 30,
     "metadata": {},
     "output_type": "execute_result"
    }
   ],
   "source": [
    "new_array.itemsize"
   ]
  },
  {
   "cell_type": "code",
   "execution_count": 37,
   "id": "e3c029a3-431c-45ee-b6ee-acfa23c300d2",
   "metadata": {},
   "outputs": [],
   "source": [
    "question5_array = np.array([1,2,3,4,5,6,7,8,9])"
   ]
  },
  {
   "cell_type": "code",
   "execution_count": 42,
   "id": "a1b15a9a-2fbe-43c1-9291-f5ba6694d743",
   "metadata": {},
   "outputs": [
    {
     "data": {
      "text/plain": [
       "array([6, 7, 8, 9])"
      ]
     },
     "execution_count": 42,
     "metadata": {},
     "output_type": "execute_result"
    }
   ],
   "source": [
    "question5_array[5:]"
   ]
  },
  {
   "cell_type": "code",
   "execution_count": 36,
   "id": "7d33ec26-8612-43a2-a667-30a130b8c187",
   "metadata": {},
   "outputs": [
    {
     "data": {
      "text/plain": [
       "dtype('<U32')"
      ]
     },
     "execution_count": 36,
     "metadata": {},
     "output_type": "execute_result"
    }
   ],
   "source": [
    "question6_array = np.array([1,2.5, 'three'])\n",
    "question6_array.dtype"
   ]
  },
  {
   "cell_type": "code",
   "execution_count": 69,
   "id": "366e5eec-489d-4afc-877f-c867f7dcd1eb",
   "metadata": {},
   "outputs": [
    {
     "data": {
      "text/plain": [
       "array([[0, 1],\n",
       "       [2, 3],\n",
       "       [4, 5]])"
      ]
     },
     "execution_count": 69,
     "metadata": {},
     "output_type": "execute_result"
    }
   ],
   "source": [
    "a = np.arange(6).reshape(3,2)\n",
    "a"
   ]
  },
  {
   "cell_type": "code",
   "execution_count": 72,
   "id": "0233afdb-6b94-4e1b-af91-7c224f307601",
   "metadata": {},
   "outputs": [
    {
     "data": {
      "text/plain": [
       "array([0, 1])"
      ]
     },
     "execution_count": 72,
     "metadata": {},
     "output_type": "execute_result"
    }
   ],
   "source": [
    "b = np.arange(2).reshape(2,)\n",
    "b"
   ]
  },
  {
   "cell_type": "code",
   "execution_count": 73,
   "id": "0317bb19-1b65-4436-a7b0-d88264a0ff09",
   "metadata": {},
   "outputs": [
    {
     "data": {
      "text/plain": [
       "array([[0, 2],\n",
       "       [2, 4],\n",
       "       [4, 6]])"
      ]
     },
     "execution_count": 73,
     "metadata": {},
     "output_type": "execute_result"
    }
   ],
   "source": [
    "a + b"
   ]
  },
  {
   "cell_type": "code",
   "execution_count": null,
   "id": "ab666dcd-e30c-4920-b7aa-43caf71646e0",
   "metadata": {},
   "outputs": [],
   "source": []
  }
 ],
 "metadata": {
  "kernelspec": {
   "display_name": "Python 3",
   "language": "python",
   "name": "python3"
  },
  "language_info": {
   "codemirror_mode": {
    "name": "ipython",
    "version": 3
   },
   "file_extension": ".py",
   "mimetype": "text/x-python",
   "name": "python",
   "nbconvert_exporter": "python",
   "pygments_lexer": "ipython3",
   "version": "3.9.2"
  }
 },
 "nbformat": 4,
 "nbformat_minor": 5
}
