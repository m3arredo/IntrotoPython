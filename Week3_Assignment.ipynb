{
 "cells": [
  {
   "cell_type": "markdown",
   "id": "tXRPbVhmKSJ5",
   "metadata": {
    "id": "tXRPbVhmKSJ5"
   },
   "source": [
    "### Import pandas and numpy"
   ]
  },
  {
   "cell_type": "code",
   "execution_count": 1,
   "id": "f84680eb",
   "metadata": {
    "id": "f84680eb"
   },
   "outputs": [],
   "source": [
    "import numpy as np \n",
    "import pandas as pd #ToDo"
   ]
  },
  {
   "cell_type": "markdown",
   "id": "d6fb8ebc",
   "metadata": {
    "id": "d6fb8ebc"
   },
   "source": [
    "## Part 1"
   ]
  },
  {
   "cell_type": "markdown",
   "id": "3d99956e",
   "metadata": {
    "id": "3d99956e",
    "tags": []
   },
   "source": [
    "### 1.1 **Fetch and read book data**\n",
    "In this assignment, we will be working with a dataset of books - https://raw.githubusercontent.com/iamsharduld/DSC207Datasets/main/Week3/books_hw.csv. As you may have noticed, the file type is csv - comma separated values. **Read this data into a pandas dataframe `books`.** (Hint - It might be useful to look into [documentation](https://pandas.pydata.org/pandas-docs/version/0.17.0/generated/pandas.read_csv.html) for read csv files. If you come across some 'bad' lines in the dataset, the parameter `error_bad_lines` may be useful)) [0.5pt]"
   ]
  },
  {
   "cell_type": "code",
   "execution_count": null,
   "id": "a605724a",
   "metadata": {
    "id": "a605724a"
   },
   "outputs": [],
   "source": [
    "books = pd.read_csv('https://raw.githubusercontent.com/iamsharduld/DSC207Datasets/main/Week3/books_hw.csv',error_bad_lines=False)  #ToDo"
   ]
  },
  {
   "cell_type": "markdown",
   "id": "Nd1z6BJTMJup",
   "metadata": {
    "id": "Nd1z6BJTMJup",
    "tags": []
   },
   "source": [
    "### 1.2 **To verify that `books` contains data, print the first 10 rows of the dataset.** Verify the same with CSV file. [0.5pt]"
   ]
  },
  {
   "cell_type": "code",
   "execution_count": null,
   "id": "0da2ba90",
   "metadata": {
    "id": "0da2ba90"
   },
   "outputs": [],
   "source": [
    "books.head(10) #ToDo"
   ]
  },
  {
   "cell_type": "markdown",
   "id": "e3e50ac3",
   "metadata": {
    "id": "e3e50ac3",
    "tags": []
   },
   "source": [
    "### 1.3 **Change Index to bookID**\n",
    "In the above dataframe, you can see that there is an index before the first column `bookID`. Instead we can have bookID as the index for better searching and filtering. **Change the index of `books` to `bookID`.** (Hint - make sure the you are applying the changes to the same dataframe) [0.5pt]"
   ]
  },
  {
   "cell_type": "code",
   "execution_count": 4,
   "id": "180a31dc",
   "metadata": {
    "id": "180a31dc"
   },
   "outputs": [],
   "source": [
    "books = books.set_index('bookID') #ToDo"
   ]
  },
  {
   "cell_type": "markdown",
   "id": "Yo6pUYW-M1VA",
   "metadata": {
    "id": "Yo6pUYW-M1VA",
    "tags": []
   },
   "source": [
    "### 1.4 To verify change in index, **print the first 10 rows of the updated dataframe `books`.** [0.5pt]"
   ]
  },
  {
   "cell_type": "code",
   "execution_count": 5,
   "id": "456cecab",
   "metadata": {
    "id": "456cecab"
   },
   "outputs": [
    {
     "data": {
      "text/html": [
       "<div>\n",
       "<style scoped>\n",
       "    .dataframe tbody tr th:only-of-type {\n",
       "        vertical-align: middle;\n",
       "    }\n",
       "\n",
       "    .dataframe tbody tr th {\n",
       "        vertical-align: top;\n",
       "    }\n",
       "\n",
       "    .dataframe thead th {\n",
       "        text-align: right;\n",
       "    }\n",
       "</style>\n",
       "<table border=\"1\" class=\"dataframe\">\n",
       "  <thead>\n",
       "    <tr style=\"text-align: right;\">\n",
       "      <th></th>\n",
       "      <th>title</th>\n",
       "      <th>authors</th>\n",
       "      <th>average_rating</th>\n",
       "      <th>isbn</th>\n",
       "      <th>isbn13</th>\n",
       "      <th>language_code</th>\n",
       "      <th>num_pages</th>\n",
       "      <th>ratings_count</th>\n",
       "      <th>text_reviews_count</th>\n",
       "      <th>publication_date</th>\n",
       "      <th>publisher</th>\n",
       "    </tr>\n",
       "    <tr>\n",
       "      <th>bookID</th>\n",
       "      <th></th>\n",
       "      <th></th>\n",
       "      <th></th>\n",
       "      <th></th>\n",
       "      <th></th>\n",
       "      <th></th>\n",
       "      <th></th>\n",
       "      <th></th>\n",
       "      <th></th>\n",
       "      <th></th>\n",
       "      <th></th>\n",
       "    </tr>\n",
       "  </thead>\n",
       "  <tbody>\n",
       "    <tr>\n",
       "      <th>1</th>\n",
       "      <td>Harry Potter and the Half-Blood Prince (Harry ...</td>\n",
       "      <td>J.K. Rowling/Mary GrandPré</td>\n",
       "      <td>4.57</td>\n",
       "      <td>0439785960</td>\n",
       "      <td>9780439785969</td>\n",
       "      <td>eng</td>\n",
       "      <td>652</td>\n",
       "      <td>2095690</td>\n",
       "      <td>27591</td>\n",
       "      <td>9/16/2006</td>\n",
       "      <td>Scholastic Inc.</td>\n",
       "    </tr>\n",
       "    <tr>\n",
       "      <th>2</th>\n",
       "      <td>Harry Potter and the Order of the Phoenix (Har...</td>\n",
       "      <td>J.K. Rowling/Mary GrandPré</td>\n",
       "      <td>4.49</td>\n",
       "      <td>0439358078</td>\n",
       "      <td>9780439358071</td>\n",
       "      <td>eng</td>\n",
       "      <td>870</td>\n",
       "      <td>2153167</td>\n",
       "      <td>29221</td>\n",
       "      <td>9/1/2004</td>\n",
       "      <td>Scholastic Inc.</td>\n",
       "    </tr>\n",
       "    <tr>\n",
       "      <th>4</th>\n",
       "      <td>Harry Potter and the Chamber of Secrets (Harry...</td>\n",
       "      <td>J.K. Rowling</td>\n",
       "      <td>4.42</td>\n",
       "      <td>0439554896</td>\n",
       "      <td>9780439554893</td>\n",
       "      <td>eng</td>\n",
       "      <td>352</td>\n",
       "      <td>6333</td>\n",
       "      <td>244</td>\n",
       "      <td>11/1/2003</td>\n",
       "      <td>Scholastic</td>\n",
       "    </tr>\n",
       "    <tr>\n",
       "      <th>5</th>\n",
       "      <td>Harry Potter and the Prisoner of Azkaban (Harr...</td>\n",
       "      <td>J.K. Rowling/Mary GrandPré</td>\n",
       "      <td>4.56</td>\n",
       "      <td>043965548X</td>\n",
       "      <td>9780439655484</td>\n",
       "      <td>eng</td>\n",
       "      <td>435</td>\n",
       "      <td>2339585</td>\n",
       "      <td>36325</td>\n",
       "      <td>5/1/2004</td>\n",
       "      <td>Scholastic Inc.</td>\n",
       "    </tr>\n",
       "    <tr>\n",
       "      <th>8</th>\n",
       "      <td>Harry Potter Boxed Set  Books 1-5 (Harry Potte...</td>\n",
       "      <td>J.K. Rowling/Mary GrandPré</td>\n",
       "      <td>4.78</td>\n",
       "      <td>0439682584</td>\n",
       "      <td>9780439682589</td>\n",
       "      <td>eng</td>\n",
       "      <td>2690</td>\n",
       "      <td>41428</td>\n",
       "      <td>164</td>\n",
       "      <td>9/13/2004</td>\n",
       "      <td>Scholastic</td>\n",
       "    </tr>\n",
       "    <tr>\n",
       "      <th>9</th>\n",
       "      <td>Unauthorized Harry Potter Book Seven News: \"Ha...</td>\n",
       "      <td>W. Frederick Zimmerman</td>\n",
       "      <td>3.74</td>\n",
       "      <td>0976540606</td>\n",
       "      <td>9780976540601</td>\n",
       "      <td>en-US</td>\n",
       "      <td>152</td>\n",
       "      <td>19</td>\n",
       "      <td>1</td>\n",
       "      <td>4/26/2005</td>\n",
       "      <td>Nimble Books</td>\n",
       "    </tr>\n",
       "    <tr>\n",
       "      <th>10</th>\n",
       "      <td>Harry Potter Collection (Harry Potter  #1-6)</td>\n",
       "      <td>J.K. Rowling</td>\n",
       "      <td>4.73</td>\n",
       "      <td>0439827604</td>\n",
       "      <td>9780439827607</td>\n",
       "      <td>eng</td>\n",
       "      <td>3342</td>\n",
       "      <td>28242</td>\n",
       "      <td>808</td>\n",
       "      <td>9/12/2005</td>\n",
       "      <td>Scholastic</td>\n",
       "    </tr>\n",
       "    <tr>\n",
       "      <th>12</th>\n",
       "      <td>The Ultimate Hitchhiker's Guide: Five Complete...</td>\n",
       "      <td>Douglas Adams</td>\n",
       "      <td>4.38</td>\n",
       "      <td>0517226952</td>\n",
       "      <td>9780517226957</td>\n",
       "      <td>eng</td>\n",
       "      <td>815</td>\n",
       "      <td>3628</td>\n",
       "      <td>254</td>\n",
       "      <td>11/1/2005</td>\n",
       "      <td>Gramercy Books</td>\n",
       "    </tr>\n",
       "    <tr>\n",
       "      <th>13</th>\n",
       "      <td>The Ultimate Hitchhiker's Guide to the Galaxy ...</td>\n",
       "      <td>Douglas Adams</td>\n",
       "      <td>4.38</td>\n",
       "      <td>0345453743</td>\n",
       "      <td>9780345453747</td>\n",
       "      <td>eng</td>\n",
       "      <td>815</td>\n",
       "      <td>249558</td>\n",
       "      <td>4080</td>\n",
       "      <td>4/30/2002</td>\n",
       "      <td>Del Rey Books</td>\n",
       "    </tr>\n",
       "    <tr>\n",
       "      <th>14</th>\n",
       "      <td>The Hitchhiker's Guide to the Galaxy (Hitchhik...</td>\n",
       "      <td>Douglas Adams</td>\n",
       "      <td>4.22</td>\n",
       "      <td>1400052920</td>\n",
       "      <td>9781400052929</td>\n",
       "      <td>eng</td>\n",
       "      <td>215</td>\n",
       "      <td>4930</td>\n",
       "      <td>460</td>\n",
       "      <td>8/3/2004</td>\n",
       "      <td>Crown</td>\n",
       "    </tr>\n",
       "  </tbody>\n",
       "</table>\n",
       "</div>"
      ],
      "text/plain": [
       "                                                    title  \\\n",
       "bookID                                                      \n",
       "1       Harry Potter and the Half-Blood Prince (Harry ...   \n",
       "2       Harry Potter and the Order of the Phoenix (Har...   \n",
       "4       Harry Potter and the Chamber of Secrets (Harry...   \n",
       "5       Harry Potter and the Prisoner of Azkaban (Harr...   \n",
       "8       Harry Potter Boxed Set  Books 1-5 (Harry Potte...   \n",
       "9       Unauthorized Harry Potter Book Seven News: \"Ha...   \n",
       "10           Harry Potter Collection (Harry Potter  #1-6)   \n",
       "12      The Ultimate Hitchhiker's Guide: Five Complete...   \n",
       "13      The Ultimate Hitchhiker's Guide to the Galaxy ...   \n",
       "14      The Hitchhiker's Guide to the Galaxy (Hitchhik...   \n",
       "\n",
       "                           authors  average_rating        isbn         isbn13  \\\n",
       "bookID                                                                          \n",
       "1       J.K. Rowling/Mary GrandPré            4.57  0439785960  9780439785969   \n",
       "2       J.K. Rowling/Mary GrandPré            4.49  0439358078  9780439358071   \n",
       "4                     J.K. Rowling            4.42  0439554896  9780439554893   \n",
       "5       J.K. Rowling/Mary GrandPré            4.56  043965548X  9780439655484   \n",
       "8       J.K. Rowling/Mary GrandPré            4.78  0439682584  9780439682589   \n",
       "9           W. Frederick Zimmerman            3.74  0976540606  9780976540601   \n",
       "10                    J.K. Rowling            4.73  0439827604  9780439827607   \n",
       "12                   Douglas Adams            4.38  0517226952  9780517226957   \n",
       "13                   Douglas Adams            4.38  0345453743  9780345453747   \n",
       "14                   Douglas Adams            4.22  1400052920  9781400052929   \n",
       "\n",
       "       language_code    num_pages  ratings_count  text_reviews_count  \\\n",
       "bookID                                                                 \n",
       "1                eng          652        2095690               27591   \n",
       "2                eng          870        2153167               29221   \n",
       "4                eng          352           6333                 244   \n",
       "5                eng          435        2339585               36325   \n",
       "8                eng         2690          41428                 164   \n",
       "9              en-US          152             19                   1   \n",
       "10               eng         3342          28242                 808   \n",
       "12               eng          815           3628                 254   \n",
       "13               eng          815         249558                4080   \n",
       "14               eng          215           4930                 460   \n",
       "\n",
       "       publication_date        publisher  \n",
       "bookID                                    \n",
       "1             9/16/2006  Scholastic Inc.  \n",
       "2              9/1/2004  Scholastic Inc.  \n",
       "4             11/1/2003       Scholastic  \n",
       "5              5/1/2004  Scholastic Inc.  \n",
       "8             9/13/2004       Scholastic  \n",
       "9             4/26/2005     Nimble Books  \n",
       "10            9/12/2005       Scholastic  \n",
       "12            11/1/2005   Gramercy Books  \n",
       "13            4/30/2002    Del Rey Books  \n",
       "14             8/3/2004            Crown  "
      ]
     },
     "execution_count": 5,
     "metadata": {},
     "output_type": "execute_result"
    }
   ],
   "source": [
    "books.head(10) #ToDo"
   ]
  },
  {
   "cell_type": "markdown",
   "id": "ff170ea3",
   "metadata": {
    "id": "ff170ea3"
   },
   "source": [
    "### 1.5 **Print the total samples(rows) in dataset.** [0.5pt]\n"
   ]
  },
  {
   "cell_type": "code",
   "execution_count": 6,
   "id": "de9a9006",
   "metadata": {
    "id": "de9a9006"
   },
   "outputs": [
    {
     "data": {
      "text/html": [
       "<div>\n",
       "<style scoped>\n",
       "    .dataframe tbody tr th:only-of-type {\n",
       "        vertical-align: middle;\n",
       "    }\n",
       "\n",
       "    .dataframe tbody tr th {\n",
       "        vertical-align: top;\n",
       "    }\n",
       "\n",
       "    .dataframe thead th {\n",
       "        text-align: right;\n",
       "    }\n",
       "</style>\n",
       "<table border=\"1\" class=\"dataframe\">\n",
       "  <thead>\n",
       "    <tr style=\"text-align: right;\">\n",
       "      <th></th>\n",
       "      <th>title</th>\n",
       "      <th>authors</th>\n",
       "      <th>average_rating</th>\n",
       "      <th>isbn</th>\n",
       "      <th>isbn13</th>\n",
       "      <th>language_code</th>\n",
       "      <th>num_pages</th>\n",
       "      <th>ratings_count</th>\n",
       "      <th>text_reviews_count</th>\n",
       "      <th>publication_date</th>\n",
       "      <th>publisher</th>\n",
       "    </tr>\n",
       "    <tr>\n",
       "      <th>bookID</th>\n",
       "      <th></th>\n",
       "      <th></th>\n",
       "      <th></th>\n",
       "      <th></th>\n",
       "      <th></th>\n",
       "      <th></th>\n",
       "      <th></th>\n",
       "      <th></th>\n",
       "      <th></th>\n",
       "      <th></th>\n",
       "      <th></th>\n",
       "    </tr>\n",
       "  </thead>\n",
       "  <tbody>\n",
       "    <tr>\n",
       "      <th>1</th>\n",
       "      <td>Harry Potter and the Half-Blood Prince (Harry ...</td>\n",
       "      <td>J.K. Rowling/Mary GrandPré</td>\n",
       "      <td>4.57</td>\n",
       "      <td>0439785960</td>\n",
       "      <td>9780439785969</td>\n",
       "      <td>eng</td>\n",
       "      <td>652</td>\n",
       "      <td>2095690</td>\n",
       "      <td>27591</td>\n",
       "      <td>9/16/2006</td>\n",
       "      <td>Scholastic Inc.</td>\n",
       "    </tr>\n",
       "    <tr>\n",
       "      <th>2</th>\n",
       "      <td>Harry Potter and the Order of the Phoenix (Har...</td>\n",
       "      <td>J.K. Rowling/Mary GrandPré</td>\n",
       "      <td>4.49</td>\n",
       "      <td>0439358078</td>\n",
       "      <td>9780439358071</td>\n",
       "      <td>eng</td>\n",
       "      <td>870</td>\n",
       "      <td>2153167</td>\n",
       "      <td>29221</td>\n",
       "      <td>9/1/2004</td>\n",
       "      <td>Scholastic Inc.</td>\n",
       "    </tr>\n",
       "    <tr>\n",
       "      <th>4</th>\n",
       "      <td>Harry Potter and the Chamber of Secrets (Harry...</td>\n",
       "      <td>J.K. Rowling</td>\n",
       "      <td>4.42</td>\n",
       "      <td>0439554896</td>\n",
       "      <td>9780439554893</td>\n",
       "      <td>eng</td>\n",
       "      <td>352</td>\n",
       "      <td>6333</td>\n",
       "      <td>244</td>\n",
       "      <td>11/1/2003</td>\n",
       "      <td>Scholastic</td>\n",
       "    </tr>\n",
       "    <tr>\n",
       "      <th>5</th>\n",
       "      <td>Harry Potter and the Prisoner of Azkaban (Harr...</td>\n",
       "      <td>J.K. Rowling/Mary GrandPré</td>\n",
       "      <td>4.56</td>\n",
       "      <td>043965548X</td>\n",
       "      <td>9780439655484</td>\n",
       "      <td>eng</td>\n",
       "      <td>435</td>\n",
       "      <td>2339585</td>\n",
       "      <td>36325</td>\n",
       "      <td>5/1/2004</td>\n",
       "      <td>Scholastic Inc.</td>\n",
       "    </tr>\n",
       "    <tr>\n",
       "      <th>8</th>\n",
       "      <td>Harry Potter Boxed Set  Books 1-5 (Harry Potte...</td>\n",
       "      <td>J.K. Rowling/Mary GrandPré</td>\n",
       "      <td>4.78</td>\n",
       "      <td>0439682584</td>\n",
       "      <td>9780439682589</td>\n",
       "      <td>eng</td>\n",
       "      <td>2690</td>\n",
       "      <td>41428</td>\n",
       "      <td>164</td>\n",
       "      <td>9/13/2004</td>\n",
       "      <td>Scholastic</td>\n",
       "    </tr>\n",
       "    <tr>\n",
       "      <th>...</th>\n",
       "      <td>...</td>\n",
       "      <td>...</td>\n",
       "      <td>...</td>\n",
       "      <td>...</td>\n",
       "      <td>...</td>\n",
       "      <td>...</td>\n",
       "      <td>...</td>\n",
       "      <td>...</td>\n",
       "      <td>...</td>\n",
       "      <td>...</td>\n",
       "      <td>...</td>\n",
       "    </tr>\n",
       "    <tr>\n",
       "      <th>45631</th>\n",
       "      <td>Expelled from Eden: A William T. Vollmann Reader</td>\n",
       "      <td>William T. Vollmann/Larry McCaffery/Michael He...</td>\n",
       "      <td>4.06</td>\n",
       "      <td>1560254416</td>\n",
       "      <td>9781560254416</td>\n",
       "      <td>eng</td>\n",
       "      <td>512</td>\n",
       "      <td>156</td>\n",
       "      <td>20</td>\n",
       "      <td>12/21/2004</td>\n",
       "      <td>Da Capo Press</td>\n",
       "    </tr>\n",
       "    <tr>\n",
       "      <th>45633</th>\n",
       "      <td>You Bright and Risen Angels</td>\n",
       "      <td>William T. Vollmann</td>\n",
       "      <td>4.08</td>\n",
       "      <td>0140110879</td>\n",
       "      <td>9780140110876</td>\n",
       "      <td>eng</td>\n",
       "      <td>635</td>\n",
       "      <td>783</td>\n",
       "      <td>56</td>\n",
       "      <td>12/1/1988</td>\n",
       "      <td>Penguin Books</td>\n",
       "    </tr>\n",
       "    <tr>\n",
       "      <th>45634</th>\n",
       "      <td>The Ice-Shirt (Seven Dreams #1)</td>\n",
       "      <td>William T. Vollmann</td>\n",
       "      <td>3.96</td>\n",
       "      <td>0140131965</td>\n",
       "      <td>9780140131963</td>\n",
       "      <td>eng</td>\n",
       "      <td>415</td>\n",
       "      <td>820</td>\n",
       "      <td>95</td>\n",
       "      <td>8/1/1993</td>\n",
       "      <td>Penguin Books</td>\n",
       "    </tr>\n",
       "    <tr>\n",
       "      <th>45639</th>\n",
       "      <td>Poor People</td>\n",
       "      <td>William T. Vollmann</td>\n",
       "      <td>3.72</td>\n",
       "      <td>0060878827</td>\n",
       "      <td>9780060878825</td>\n",
       "      <td>eng</td>\n",
       "      <td>434</td>\n",
       "      <td>769</td>\n",
       "      <td>139</td>\n",
       "      <td>2/27/2007</td>\n",
       "      <td>Ecco</td>\n",
       "    </tr>\n",
       "    <tr>\n",
       "      <th>45641</th>\n",
       "      <td>Las aventuras de Tom Sawyer</td>\n",
       "      <td>Mark Twain</td>\n",
       "      <td>3.91</td>\n",
       "      <td>8497646983</td>\n",
       "      <td>9788497646987</td>\n",
       "      <td>spa</td>\n",
       "      <td>272</td>\n",
       "      <td>113</td>\n",
       "      <td>12</td>\n",
       "      <td>5/28/2006</td>\n",
       "      <td>Edimat Libros</td>\n",
       "    </tr>\n",
       "  </tbody>\n",
       "</table>\n",
       "<p>11123 rows × 11 columns</p>\n",
       "</div>"
      ],
      "text/plain": [
       "                                                    title  \\\n",
       "bookID                                                      \n",
       "1       Harry Potter and the Half-Blood Prince (Harry ...   \n",
       "2       Harry Potter and the Order of the Phoenix (Har...   \n",
       "4       Harry Potter and the Chamber of Secrets (Harry...   \n",
       "5       Harry Potter and the Prisoner of Azkaban (Harr...   \n",
       "8       Harry Potter Boxed Set  Books 1-5 (Harry Potte...   \n",
       "...                                                   ...   \n",
       "45631    Expelled from Eden: A William T. Vollmann Reader   \n",
       "45633                         You Bright and Risen Angels   \n",
       "45634                     The Ice-Shirt (Seven Dreams #1)   \n",
       "45639                                         Poor People   \n",
       "45641                         Las aventuras de Tom Sawyer   \n",
       "\n",
       "                                                  authors  average_rating  \\\n",
       "bookID                                                                      \n",
       "1                              J.K. Rowling/Mary GrandPré            4.57   \n",
       "2                              J.K. Rowling/Mary GrandPré            4.49   \n",
       "4                                            J.K. Rowling            4.42   \n",
       "5                              J.K. Rowling/Mary GrandPré            4.56   \n",
       "8                              J.K. Rowling/Mary GrandPré            4.78   \n",
       "...                                                   ...             ...   \n",
       "45631   William T. Vollmann/Larry McCaffery/Michael He...            4.06   \n",
       "45633                                 William T. Vollmann            4.08   \n",
       "45634                                 William T. Vollmann            3.96   \n",
       "45639                                 William T. Vollmann            3.72   \n",
       "45641                                          Mark Twain            3.91   \n",
       "\n",
       "              isbn         isbn13 language_code    num_pages  ratings_count  \\\n",
       "bookID                                                                        \n",
       "1       0439785960  9780439785969           eng          652        2095690   \n",
       "2       0439358078  9780439358071           eng          870        2153167   \n",
       "4       0439554896  9780439554893           eng          352           6333   \n",
       "5       043965548X  9780439655484           eng          435        2339585   \n",
       "8       0439682584  9780439682589           eng         2690          41428   \n",
       "...            ...            ...           ...          ...            ...   \n",
       "45631   1560254416  9781560254416           eng          512            156   \n",
       "45633   0140110879  9780140110876           eng          635            783   \n",
       "45634   0140131965  9780140131963           eng          415            820   \n",
       "45639   0060878827  9780060878825           eng          434            769   \n",
       "45641   8497646983  9788497646987           spa          272            113   \n",
       "\n",
       "        text_reviews_count publication_date        publisher  \n",
       "bookID                                                        \n",
       "1                    27591        9/16/2006  Scholastic Inc.  \n",
       "2                    29221         9/1/2004  Scholastic Inc.  \n",
       "4                      244        11/1/2003       Scholastic  \n",
       "5                    36325         5/1/2004  Scholastic Inc.  \n",
       "8                      164        9/13/2004       Scholastic  \n",
       "...                    ...              ...              ...  \n",
       "45631                   20       12/21/2004    Da Capo Press  \n",
       "45633                   56        12/1/1988    Penguin Books  \n",
       "45634                   95         8/1/1993    Penguin Books  \n",
       "45639                  139        2/27/2007             Ecco  \n",
       "45641                   12        5/28/2006    Edimat Libros  \n",
       "\n",
       "[11123 rows x 11 columns]"
      ]
     },
     "execution_count": 6,
     "metadata": {},
     "output_type": "execute_result"
    }
   ],
   "source": [
    "books.iloc[:] #ToDo"
   ]
  },
  {
   "cell_type": "markdown",
   "id": "08f133da",
   "metadata": {
    "id": "08f133da"
   },
   "source": [
    "## Part 2"
   ]
  },
  {
   "cell_type": "markdown",
   "id": "33432212",
   "metadata": {
    "id": "33432212",
    "tags": []
   },
   "source": [
    "### 2.1 **Filtering dataframes**"
   ]
  },
  {
   "cell_type": "markdown",
   "id": "84_Ce4KCwGmW",
   "metadata": {
    "id": "84_Ce4KCwGmW"
   },
   "source": [
    "We may want the ability to get data based on certain criteria to perform analysis or derive statistics. **Get all rows from the dataframe `books` for which author is \"J.R.R. Tolkien\" and store it in `booksByTolkien`.** [0.5pt]"
   ]
  },
  {
   "cell_type": "code",
   "execution_count": 7,
   "id": "2fb9b173",
   "metadata": {
    "id": "2fb9b173"
   },
   "outputs": [
    {
     "data": {
      "text/html": [
       "<div>\n",
       "<style scoped>\n",
       "    .dataframe tbody tr th:only-of-type {\n",
       "        vertical-align: middle;\n",
       "    }\n",
       "\n",
       "    .dataframe tbody tr th {\n",
       "        vertical-align: top;\n",
       "    }\n",
       "\n",
       "    .dataframe thead th {\n",
       "        text-align: right;\n",
       "    }\n",
       "</style>\n",
       "<table border=\"1\" class=\"dataframe\">\n",
       "  <thead>\n",
       "    <tr style=\"text-align: right;\">\n",
       "      <th></th>\n",
       "      <th>title</th>\n",
       "      <th>authors</th>\n",
       "      <th>average_rating</th>\n",
       "      <th>isbn</th>\n",
       "      <th>isbn13</th>\n",
       "      <th>language_code</th>\n",
       "      <th>num_pages</th>\n",
       "      <th>ratings_count</th>\n",
       "      <th>text_reviews_count</th>\n",
       "      <th>publication_date</th>\n",
       "      <th>publisher</th>\n",
       "    </tr>\n",
       "    <tr>\n",
       "      <th>bookID</th>\n",
       "      <th></th>\n",
       "      <th></th>\n",
       "      <th></th>\n",
       "      <th></th>\n",
       "      <th></th>\n",
       "      <th></th>\n",
       "      <th></th>\n",
       "      <th></th>\n",
       "      <th></th>\n",
       "      <th></th>\n",
       "      <th></th>\n",
       "    </tr>\n",
       "  </thead>\n",
       "  <tbody>\n",
       "    <tr>\n",
       "      <th>30</th>\n",
       "      <td>J.R.R. Tolkien 4-Book Boxed Set: The Hobbit an...</td>\n",
       "      <td>J.R.R. Tolkien</td>\n",
       "      <td>4.59</td>\n",
       "      <td>0345538374</td>\n",
       "      <td>9780345538376</td>\n",
       "      <td>eng</td>\n",
       "      <td>1728</td>\n",
       "      <td>101233</td>\n",
       "      <td>1550</td>\n",
       "      <td>9/25/2012</td>\n",
       "      <td>Ballantine Books</td>\n",
       "    </tr>\n",
       "    <tr>\n",
       "      <th>31</th>\n",
       "      <td>The Lord of the Rings (The Lord of the Rings  ...</td>\n",
       "      <td>J.R.R. Tolkien</td>\n",
       "      <td>4.50</td>\n",
       "      <td>0618517650</td>\n",
       "      <td>9780618517657</td>\n",
       "      <td>eng</td>\n",
       "      <td>1184</td>\n",
       "      <td>1710</td>\n",
       "      <td>91</td>\n",
       "      <td>10/21/2004</td>\n",
       "      <td>Houghton Mifflin Harcourt</td>\n",
       "    </tr>\n",
       "    <tr>\n",
       "      <th>34</th>\n",
       "      <td>The Fellowship of the Ring (The Lord of the Ri...</td>\n",
       "      <td>J.R.R. Tolkien</td>\n",
       "      <td>4.36</td>\n",
       "      <td>0618346252</td>\n",
       "      <td>9780618346257</td>\n",
       "      <td>eng</td>\n",
       "      <td>398</td>\n",
       "      <td>2128944</td>\n",
       "      <td>13670</td>\n",
       "      <td>9/5/2003</td>\n",
       "      <td>Houghton Mifflin Harcourt</td>\n",
       "    </tr>\n",
       "    <tr>\n",
       "      <th>2331</th>\n",
       "      <td>The Lord of the Rings- 3 volumes set (The Lord...</td>\n",
       "      <td>J.R.R. Tolkien</td>\n",
       "      <td>4.50</td>\n",
       "      <td>0618574999</td>\n",
       "      <td>9780618574995</td>\n",
       "      <td>en-US</td>\n",
       "      <td>1438</td>\n",
       "      <td>232</td>\n",
       "      <td>9</td>\n",
       "      <td>6/1/2005</td>\n",
       "      <td>Mariner Books</td>\n",
       "    </tr>\n",
       "    <tr>\n",
       "      <th>5898</th>\n",
       "      <td>The Lord of the Rings (The Lord of the Rings  ...</td>\n",
       "      <td>J.R.R. Tolkien</td>\n",
       "      <td>4.50</td>\n",
       "      <td>0007136587</td>\n",
       "      <td>9780007136582</td>\n",
       "      <td>eng</td>\n",
       "      <td>1200</td>\n",
       "      <td>682</td>\n",
       "      <td>43</td>\n",
       "      <td>9/16/2002</td>\n",
       "      <td>Not Avail</td>\n",
       "    </tr>\n",
       "    <tr>\n",
       "      <th>5907</th>\n",
       "      <td>The Hobbit  or There and Back Again</td>\n",
       "      <td>J.R.R. Tolkien</td>\n",
       "      <td>4.27</td>\n",
       "      <td>0618260307</td>\n",
       "      <td>9780618260300</td>\n",
       "      <td>eng</td>\n",
       "      <td>366</td>\n",
       "      <td>2530894</td>\n",
       "      <td>32871</td>\n",
       "      <td>8/15/2002</td>\n",
       "      <td>Houghton Mifflin</td>\n",
       "    </tr>\n",
       "    <tr>\n",
       "      <th>5911</th>\n",
       "      <td>Poems From The Hobbit</td>\n",
       "      <td>J.R.R. Tolkien</td>\n",
       "      <td>4.30</td>\n",
       "      <td>0618009345</td>\n",
       "      <td>9780618009343</td>\n",
       "      <td>eng</td>\n",
       "      <td>57</td>\n",
       "      <td>169</td>\n",
       "      <td>5</td>\n",
       "      <td>12/13/1999</td>\n",
       "      <td>Houghton Mifflin Harcourt</td>\n",
       "    </tr>\n",
       "    <tr>\n",
       "      <th>5912</th>\n",
       "      <td>The Hobbit: Or There and Back Again</td>\n",
       "      <td>J.R.R. Tolkien</td>\n",
       "      <td>4.27</td>\n",
       "      <td>1594130051</td>\n",
       "      <td>9781594130052</td>\n",
       "      <td>eng</td>\n",
       "      <td>481</td>\n",
       "      <td>276</td>\n",
       "      <td>43</td>\n",
       "      <td>9/1/2003</td>\n",
       "      <td>Large Print Press</td>\n",
       "    </tr>\n",
       "    <tr>\n",
       "      <th>5915</th>\n",
       "      <td>The Hobbit</td>\n",
       "      <td>J.R.R. Tolkien</td>\n",
       "      <td>4.27</td>\n",
       "      <td>0261103288</td>\n",
       "      <td>9780261103283</td>\n",
       "      <td>eng</td>\n",
       "      <td>277</td>\n",
       "      <td>3213</td>\n",
       "      <td>329</td>\n",
       "      <td>9/17/2007</td>\n",
       "      <td>HarperCollins</td>\n",
       "    </tr>\n",
       "    <tr>\n",
       "      <th>7348</th>\n",
       "      <td>Tree and Leaf: Includes Mythopoeia and The Hom...</td>\n",
       "      <td>J.R.R. Tolkien</td>\n",
       "      <td>4.05</td>\n",
       "      <td>0007105045</td>\n",
       "      <td>9780007105045</td>\n",
       "      <td>eng</td>\n",
       "      <td>150</td>\n",
       "      <td>2357</td>\n",
       "      <td>97</td>\n",
       "      <td>2/5/2001</td>\n",
       "      <td>HarperCollins Publishers Ltd</td>\n",
       "    </tr>\n",
       "    <tr>\n",
       "      <th>15245</th>\n",
       "      <td>The Return of the King (The Lord of the Rings ...</td>\n",
       "      <td>J.R.R. Tolkien</td>\n",
       "      <td>4.53</td>\n",
       "      <td>0007171994</td>\n",
       "      <td>9780007171996</td>\n",
       "      <td>eng</td>\n",
       "      <td>554</td>\n",
       "      <td>265</td>\n",
       "      <td>5</td>\n",
       "      <td>11/6/2003</td>\n",
       "      <td>HarperCollins Publishers Ltd</td>\n",
       "    </tr>\n",
       "    <tr>\n",
       "      <th>15298</th>\n",
       "      <td>The Return of the King (The Lord of the Rings ...</td>\n",
       "      <td>J.R.R. Tolkien</td>\n",
       "      <td>4.53</td>\n",
       "      <td>0618574972</td>\n",
       "      <td>9780618574971</td>\n",
       "      <td>en-US</td>\n",
       "      <td>508</td>\n",
       "      <td>1635</td>\n",
       "      <td>74</td>\n",
       "      <td>6/1/2005</td>\n",
       "      <td>Mariner Books</td>\n",
       "    </tr>\n",
       "    <tr>\n",
       "      <th>15331</th>\n",
       "      <td>The Fellowship of the Ring (The Lord of the Ri...</td>\n",
       "      <td>J.R.R. Tolkien</td>\n",
       "      <td>4.36</td>\n",
       "      <td>0618574948</td>\n",
       "      <td>9780618574940</td>\n",
       "      <td>eng</td>\n",
       "      <td>506</td>\n",
       "      <td>1323</td>\n",
       "      <td>121</td>\n",
       "      <td>6/1/2004</td>\n",
       "      <td>Houghton Mifflin Company</td>\n",
       "    </tr>\n",
       "    <tr>\n",
       "      <th>15336</th>\n",
       "      <td>The Lord of the Rings / The Hobbit</td>\n",
       "      <td>J.R.R. Tolkien</td>\n",
       "      <td>4.59</td>\n",
       "      <td>0007144083</td>\n",
       "      <td>9780007144082</td>\n",
       "      <td>eng</td>\n",
       "      <td>1600</td>\n",
       "      <td>141</td>\n",
       "      <td>5</td>\n",
       "      <td>10/7/2002</td>\n",
       "      <td>Collins Modern Classics</td>\n",
       "    </tr>\n",
       "    <tr>\n",
       "      <th>15373</th>\n",
       "      <td>The Return of the King (The Lord of the Rings ...</td>\n",
       "      <td>J.R.R. Tolkien</td>\n",
       "      <td>4.53</td>\n",
       "      <td>0965307794</td>\n",
       "      <td>9780965307796</td>\n",
       "      <td>eng</td>\n",
       "      <td>440</td>\n",
       "      <td>202</td>\n",
       "      <td>10</td>\n",
       "      <td>1/1/2001</td>\n",
       "      <td>Quality Paperback Book Club</td>\n",
       "    </tr>\n",
       "    <tr>\n",
       "      <th>15407</th>\n",
       "      <td>The Lord of the Rings Millennium Edition Boxed...</td>\n",
       "      <td>J.R.R. Tolkien</td>\n",
       "      <td>4.50</td>\n",
       "      <td>0618037667</td>\n",
       "      <td>9780618037667</td>\n",
       "      <td>eng</td>\n",
       "      <td>1472</td>\n",
       "      <td>120</td>\n",
       "      <td>5</td>\n",
       "      <td>10/10/1999</td>\n",
       "      <td>Houghton Mifflin</td>\n",
       "    </tr>\n",
       "    <tr>\n",
       "      <th>23603</th>\n",
       "      <td>Tales from the Perilous Realm</td>\n",
       "      <td>J.R.R. Tolkien</td>\n",
       "      <td>4.08</td>\n",
       "      <td>0007149123</td>\n",
       "      <td>9780007149124</td>\n",
       "      <td>eng</td>\n",
       "      <td>178</td>\n",
       "      <td>3242</td>\n",
       "      <td>162</td>\n",
       "      <td>9/2/2002</td>\n",
       "      <td>HarperCollins Publishers</td>\n",
       "    </tr>\n",
       "  </tbody>\n",
       "</table>\n",
       "</div>"
      ],
      "text/plain": [
       "                                                    title         authors  \\\n",
       "bookID                                                                      \n",
       "30      J.R.R. Tolkien 4-Book Boxed Set: The Hobbit an...  J.R.R. Tolkien   \n",
       "31      The Lord of the Rings (The Lord of the Rings  ...  J.R.R. Tolkien   \n",
       "34      The Fellowship of the Ring (The Lord of the Ri...  J.R.R. Tolkien   \n",
       "2331    The Lord of the Rings- 3 volumes set (The Lord...  J.R.R. Tolkien   \n",
       "5898    The Lord of the Rings (The Lord of the Rings  ...  J.R.R. Tolkien   \n",
       "5907                  The Hobbit  or There and Back Again  J.R.R. Tolkien   \n",
       "5911                                Poems From The Hobbit  J.R.R. Tolkien   \n",
       "5912                  The Hobbit: Or There and Back Again  J.R.R. Tolkien   \n",
       "5915                                           The Hobbit  J.R.R. Tolkien   \n",
       "7348    Tree and Leaf: Includes Mythopoeia and The Hom...  J.R.R. Tolkien   \n",
       "15245   The Return of the King (The Lord of the Rings ...  J.R.R. Tolkien   \n",
       "15298   The Return of the King (The Lord of the Rings ...  J.R.R. Tolkien   \n",
       "15331   The Fellowship of the Ring (The Lord of the Ri...  J.R.R. Tolkien   \n",
       "15336                  The Lord of the Rings / The Hobbit  J.R.R. Tolkien   \n",
       "15373   The Return of the King (The Lord of the Rings ...  J.R.R. Tolkien   \n",
       "15407   The Lord of the Rings Millennium Edition Boxed...  J.R.R. Tolkien   \n",
       "23603                       Tales from the Perilous Realm  J.R.R. Tolkien   \n",
       "\n",
       "        average_rating        isbn         isbn13 language_code    num_pages  \\\n",
       "bookID                                                                         \n",
       "30                4.59  0345538374  9780345538376           eng         1728   \n",
       "31                4.50  0618517650  9780618517657           eng         1184   \n",
       "34                4.36  0618346252  9780618346257           eng          398   \n",
       "2331              4.50  0618574999  9780618574995         en-US         1438   \n",
       "5898              4.50  0007136587  9780007136582           eng         1200   \n",
       "5907              4.27  0618260307  9780618260300           eng          366   \n",
       "5911              4.30  0618009345  9780618009343           eng           57   \n",
       "5912              4.27  1594130051  9781594130052           eng          481   \n",
       "5915              4.27  0261103288  9780261103283           eng          277   \n",
       "7348              4.05  0007105045  9780007105045           eng          150   \n",
       "15245             4.53  0007171994  9780007171996           eng          554   \n",
       "15298             4.53  0618574972  9780618574971         en-US          508   \n",
       "15331             4.36  0618574948  9780618574940           eng          506   \n",
       "15336             4.59  0007144083  9780007144082           eng         1600   \n",
       "15373             4.53  0965307794  9780965307796           eng          440   \n",
       "15407             4.50  0618037667  9780618037667           eng         1472   \n",
       "23603             4.08  0007149123  9780007149124           eng          178   \n",
       "\n",
       "        ratings_count  text_reviews_count publication_date  \\\n",
       "bookID                                                       \n",
       "30             101233                1550        9/25/2012   \n",
       "31               1710                  91       10/21/2004   \n",
       "34            2128944               13670         9/5/2003   \n",
       "2331              232                   9         6/1/2005   \n",
       "5898              682                  43        9/16/2002   \n",
       "5907          2530894               32871        8/15/2002   \n",
       "5911              169                   5       12/13/1999   \n",
       "5912              276                  43         9/1/2003   \n",
       "5915             3213                 329        9/17/2007   \n",
       "7348             2357                  97         2/5/2001   \n",
       "15245             265                   5        11/6/2003   \n",
       "15298            1635                  74         6/1/2005   \n",
       "15331            1323                 121         6/1/2004   \n",
       "15336             141                   5        10/7/2002   \n",
       "15373             202                  10         1/1/2001   \n",
       "15407             120                   5       10/10/1999   \n",
       "23603            3242                 162         9/2/2002   \n",
       "\n",
       "                           publisher  \n",
       "bookID                                \n",
       "30                  Ballantine Books  \n",
       "31         Houghton Mifflin Harcourt  \n",
       "34         Houghton Mifflin Harcourt  \n",
       "2331                   Mariner Books  \n",
       "5898                       Not Avail  \n",
       "5907                Houghton Mifflin  \n",
       "5911       Houghton Mifflin Harcourt  \n",
       "5912               Large Print Press  \n",
       "5915                   HarperCollins  \n",
       "7348    HarperCollins Publishers Ltd  \n",
       "15245   HarperCollins Publishers Ltd  \n",
       "15298                  Mariner Books  \n",
       "15331       Houghton Mifflin Company  \n",
       "15336        Collins Modern Classics  \n",
       "15373    Quality Paperback Book Club  \n",
       "15407               Houghton Mifflin  \n",
       "23603       HarperCollins Publishers  "
      ]
     },
     "execution_count": 7,
     "metadata": {},
     "output_type": "execute_result"
    }
   ],
   "source": [
    "booksByTolkien = books[ books['authors'] == 'J.R.R. Tolkien'] #ToDo\n",
    "booksByTolkien"
   ]
  },
  {
   "cell_type": "markdown",
   "id": "yvb_e-ZaOADP",
   "metadata": {
    "id": "yvb_e-ZaOADP"
   },
   "source": [
    "### 2.2 **Print the sum of `rating_counts` in `booksByTolkien`.** [0.5pt]"
   ]
  },
  {
   "cell_type": "code",
   "execution_count": 8,
   "id": "-doC06d47Tln",
   "metadata": {
    "id": "-doC06d47Tln"
   },
   "outputs": [
    {
     "data": {
      "text/plain": [
       "4776638"
      ]
     },
     "execution_count": 8,
     "metadata": {},
     "output_type": "execute_result"
    }
   ],
   "source": [
    "booksByTolkien['ratings_count'].sum(axis = 0)#ToDo"
   ]
  },
  {
   "cell_type": "markdown",
   "id": "bebfed5e",
   "metadata": {
    "id": "bebfed5e"
   },
   "source": [
    "### 2.3 **Data analysis using dataframes**"
   ]
  },
  {
   "cell_type": "markdown",
   "id": "ChVGvTcpOL8J",
   "metadata": {
    "id": "ChVGvTcpOL8J"
   },
   "source": [
    "Since a dataframe is a collection of large amounts of data, often dealing with numeric data. This data can be used to create aggregations, which is very useful in deriving actionable insights.\n",
    "\n",
    "**Mean - Find average rating of all books present in the dataset.** [0.5pt]"
   ]
  },
  {
   "cell_type": "code",
   "execution_count": 9,
   "id": "f4c36b4c-c808-424d-923e-6a038c7fe31b",
   "metadata": {},
   "outputs": [
    {
     "data": {
      "text/plain": [
       "3.9340753393868564"
      ]
     },
     "execution_count": 9,
     "metadata": {},
     "output_type": "execute_result"
    }
   ],
   "source": [
    "books[\"average_rating\"].mean()"
   ]
  },
  {
   "cell_type": "markdown",
   "id": "3bda0605",
   "metadata": {
    "id": "3bda0605"
   },
   "source": [
    "### 2.4 **Average rating of books written by \"J.K. Rowling\"**\n",
    "\n",
    "Use the ability of filtering dataframes and find the mean of the filtered dataframe. [1pt]"
   ]
  },
  {
   "cell_type": "code",
   "execution_count": 10,
   "id": "e379f8cd",
   "metadata": {
    "id": "e379f8cd"
   },
   "outputs": [
    {
     "data": {
      "text/plain": [
       "4.395882352941177"
      ]
     },
     "execution_count": 10,
     "metadata": {},
     "output_type": "execute_result"
    }
   ],
   "source": [
    "booksByTolkien[\"average_rating\"].mean() #ToDo"
   ]
  },
  {
   "cell_type": "markdown",
   "id": "9e09fc68",
   "metadata": {
    "id": "9e09fc68"
   },
   "source": [
    "## Part 3"
   ]
  },
  {
   "cell_type": "markdown",
   "id": "b6963676",
   "metadata": {
    "id": "b6963676"
   },
   "source": [
    "### 3.1 **How many unique authors are present in this dataset?**\n",
    "(Hint - is there a function to do this?) [0.5pt]"
   ]
  },
  {
   "cell_type": "code",
   "execution_count": 11,
   "id": "a291d043",
   "metadata": {
    "id": "a291d043"
   },
   "outputs": [
    {
     "data": {
      "text/plain": [
       "6639"
      ]
     },
     "execution_count": 11,
     "metadata": {},
     "output_type": "execute_result"
    }
   ],
   "source": [
    "len(books.authors.unique()) #ToDo\n",
    "#books.authors.value_counts()"
   ]
  },
  {
   "cell_type": "markdown",
   "id": "9ed5a3e5",
   "metadata": {
    "id": "9ed5a3e5"
   },
   "source": [
    "### 3.2 **What is the maximum average rating for a book in the dataset?**\n",
    "**Store the result in `maxRating`. Print `maxRating`.** [0.5pt]"
   ]
  },
  {
   "cell_type": "code",
   "execution_count": 12,
   "id": "4d1ce376",
   "metadata": {
    "id": "4d1ce376"
   },
   "outputs": [
    {
     "data": {
      "text/plain": [
       "5.0"
      ]
     },
     "execution_count": 12,
     "metadata": {},
     "output_type": "execute_result"
    }
   ],
   "source": [
    "maxRating = books[\"average_rating\"].max() #ToDo\n",
    "maxRating"
   ]
  },
  {
   "cell_type": "markdown",
   "id": "d7cdfa18",
   "metadata": {
    "id": "d7cdfa18"
   },
   "source": [
    "### 3.3 **Authors of the books which are rated maximum**\n",
    "One sample data analysis task would be to find the authors who have high rated books. This information could be of great use to a publisher or book store chain.\n",
    "\n",
    "\n",
    "**Store the author name, book title and average rating of the books who have maximum rating, in a dataframe `maxRatedAuthors`. Print `maxRatedAuthors`.** [0.5pt]"
   ]
  },
  {
   "cell_type": "code",
   "execution_count": 13,
   "id": "9724eada",
   "metadata": {
    "id": "9724eada"
   },
   "outputs": [
    {
     "name": "stdout",
     "output_type": "stream",
     "text": [
      "                                                  authors  \\\n",
      "bookID                                                      \n",
      "2034                  Aristophanes/F.W. Hall/W.M. Geldart   \n",
      "2560                      Julie Sylvester/David Sylvester   \n",
      "2843                                       Tara MacCarthy   \n",
      "4287                 Middlesex Borough Heritage Committee   \n",
      "14741                                          Tim Bogenn   \n",
      "17224                                       John  Diamond   \n",
      "17830                                     Elena N. Mahlow   \n",
      "18184                     Ian        Martin/Katie Elliott   \n",
      "19786                                          NOT A BOOK   \n",
      "19788                                          NOT A BOOK   \n",
      "20954                            Dennis Adler/R.L. Wilson   \n",
      "20957                                      R. McL. Wilson   \n",
      "23276                                        Ross Garnaut   \n",
      "23552                                Todd Davis/Marc Frey   \n",
      "25426                     Nicholas    Evans/Rhonda  Evans   \n",
      "32823    Chris    Green/Chris Wright/Paul Douglas Gardner   \n",
      "36492                                  William C. Dowling   \n",
      "36853   Laura Driscoll/Alisa Klayman-Grodsky/Eric     ...   \n",
      "38804                                       Keith Donohue   \n",
      "39580                                   James E. Campbell   \n",
      "39829                                 Sheri Rose Shepherd   \n",
      "41639                                    Sara Barton-Wood   \n",
      "\n",
      "                                                    title  average_rating  \n",
      "bookID                                                                     \n",
      "2034    Comoediae 1: Acharenses/Equites/Nubes/Vespae/P...             5.0  \n",
      "2560                    Willem de Kooning: Late Paintings             5.0  \n",
      "2843    Literature Circle Guide: Bridge to Terabithia:...             5.0  \n",
      "4287    Middlesex Borough (Images of America: New Jersey)             5.0  \n",
      "14741   Zone of the Enders: The 2nd Runner Official St...             5.0  \n",
      "17224   The Diamond Color Meditation: Color Pathway to...             5.0  \n",
      "17830   Bulgakov's the Master and Margarita: The Text ...             5.0  \n",
      "18184   The Complete Theory Fun Factory: Music Theory ...             5.0  \n",
      "19786   The Goon Show  Volume 4: My Knees Have Fallen ...             5.0  \n",
      "19788   The Goon Show  Volume 11: He's Fallen in the W...             5.0  \n",
      "20954                                 Winchester Shotguns             5.0  \n",
      "20957   Colossians and Philemon: A Critical and Exeget...             5.0  \n",
      "23276                           Taxation of Mineral Rents             5.0  \n",
      "23552                         The New Big Book of America             5.0  \n",
      "25426   Delwau Duon: Peintiadau Nicholas Evans = Symph...             5.0  \n",
      "32823        Fanning the Flame: Bible  Cross  and Mission             5.0  \n",
      "36492   Oliver Wendell Holmes in Paris: Medicine  Theo...             5.0  \n",
      "36853                  Tyrannosaurus Wrecks (Stanley  #1)             5.0  \n",
      "38804       The Irish Anatomist: A Study of Flann O'Brien             5.0  \n",
      "39580   The American Campaign: U.S. Presidential Campa...             5.0  \n",
      "39829   His Princess Devotional: A Royal Encounter Wit...             5.0  \n",
      "41639          Bill Gates: Computer Legend (Famous Lives)             5.0  \n"
     ]
    }
   ],
   "source": [
    "maxRatedAuthors = books[ books['average_rating'] == maxRating ]  #ToDo\n",
    "maxRatedAuthors = maxRatedAuthors[[\"authors\", \"title\", \"average_rating\"] ]\n",
    "print(maxRatedAuthors) #ToDo"
   ]
  },
  {
   "cell_type": "markdown",
   "id": "hT0PafK6Qr04",
   "metadata": {
    "id": "hT0PafK6Qr04"
   },
   "source": [
    "### 3.4 **Print the number of max rated authors.** [0.5pt]"
   ]
  },
  {
   "cell_type": "code",
   "execution_count": 14,
   "id": "FK7HaYMvSRuX",
   "metadata": {
    "id": "FK7HaYMvSRuX"
   },
   "outputs": [
    {
     "data": {
      "text/plain": [
       "22"
      ]
     },
     "execution_count": 14,
     "metadata": {},
     "output_type": "execute_result"
    }
   ],
   "source": [
    "len(maxRatedAuthors) #ToDo"
   ]
  },
  {
   "cell_type": "markdown",
   "id": "c7f4a59a",
   "metadata": {
    "id": "c7f4a59a"
   },
   "source": [
    "### 3.5 **List books whose rating count is greater than 2000 and average rating is more than 4.70**\n",
    "\n",
    "**Store this into a dataframe `popularBooks`. Print `popularBooks`.** [0.5pt]"
   ]
  },
  {
   "cell_type": "code",
   "execution_count": 15,
   "id": "aa2fe6c4",
   "metadata": {
    "id": "aa2fe6c4"
   },
   "outputs": [
    {
     "name": "stdout",
     "output_type": "stream",
     "text": [
      "                                                    title  \\\n",
      "bookID                                                      \n",
      "8       Harry Potter Boxed Set  Books 1-5 (Harry Potte...   \n",
      "10           Harry Potter Collection (Harry Potter  #1-6)   \n",
      "24812                      The Complete Calvin and Hobbes   \n",
      "24814       It's a Magical World (Calvin and Hobbes  #11)   \n",
      "24816   Homicidal Psycho Jungle Cat (Calvin and Hobbes...   \n",
      "24820   Calvin and Hobbes: Sunday Pages 1985-1995: An ...   \n",
      "\n",
      "                           authors  average_rating        isbn         isbn13  \\\n",
      "bookID                                                                          \n",
      "8       J.K. Rowling/Mary GrandPré            4.78  0439682584  9780439682589   \n",
      "10                    J.K. Rowling            4.73  0439827604  9780439827607   \n",
      "24812               Bill Watterson            4.82  0740748475  9780740748479   \n",
      "24814               Bill Watterson            4.76  0836221362  9780836221367   \n",
      "24816               Bill Watterson            4.72  0836217691  9780836217698   \n",
      "24820               Bill Watterson            4.71  0740721356  9780740721359   \n",
      "\n",
      "       language_code    num_pages  ratings_count  text_reviews_count  \\\n",
      "bookID                                                                 \n",
      "8                eng         2690          41428                 164   \n",
      "10               eng         3342          28242                 808   \n",
      "24812            eng         1456          32213                 930   \n",
      "24814            eng          176          23875                 303   \n",
      "24816            eng          176          15365                 290   \n",
      "24820            eng           96           3613                  85   \n",
      "\n",
      "       publication_date                  publisher  \n",
      "bookID                                              \n",
      "8             9/13/2004                 Scholastic  \n",
      "10            9/12/2005                 Scholastic  \n",
      "24812          9/6/2005  Andrews McMeel Publishing  \n",
      "24814          9/1/1996  Andrews McMeel Publishing  \n",
      "24816          9/6/1994  Andrews McMeel Publishing  \n",
      "24820         9/17/2001  Andrews McMeel Publishing  \n"
     ]
    }
   ],
   "source": [
    "popularBooks = books [ (books['ratings_count'] > 2000) & (books['average_rating'] > 4.70) ] #ToDo\n",
    "print(popularBooks)"
   ]
  },
  {
   "cell_type": "markdown",
   "id": "_xAF1wHUSp7A",
   "metadata": {
    "id": "_xAF1wHUSp7A"
   },
   "source": [
    "### 3.6 **Describe the dataset**\n",
    "We want to use statistics to get a general idea of the dataframe and its numerical values.\n",
    "\n",
    "**Using [describe](https://pandas.pydata.org/docs/reference/api/pandas.DataFrame.describe.html), provide the counts, mean, standard deviation, mins, percentiles and maxs of the dataframe `popularBooks`**. [0.5pt]"
   ]
  },
  {
   "cell_type": "code",
   "execution_count": 16,
   "id": "q72mO_0qSpMI",
   "metadata": {
    "id": "q72mO_0qSpMI"
   },
   "outputs": [
    {
     "data": {
      "text/html": [
       "<div>\n",
       "<style scoped>\n",
       "    .dataframe tbody tr th:only-of-type {\n",
       "        vertical-align: middle;\n",
       "    }\n",
       "\n",
       "    .dataframe tbody tr th {\n",
       "        vertical-align: top;\n",
       "    }\n",
       "\n",
       "    .dataframe thead th {\n",
       "        text-align: right;\n",
       "    }\n",
       "</style>\n",
       "<table border=\"1\" class=\"dataframe\">\n",
       "  <thead>\n",
       "    <tr style=\"text-align: right;\">\n",
       "      <th></th>\n",
       "      <th>average_rating</th>\n",
       "      <th>isbn13</th>\n",
       "      <th>num_pages</th>\n",
       "      <th>ratings_count</th>\n",
       "      <th>text_reviews_count</th>\n",
       "    </tr>\n",
       "  </thead>\n",
       "  <tbody>\n",
       "    <tr>\n",
       "      <th>count</th>\n",
       "      <td>6.000000</td>\n",
       "      <td>6.000000e+00</td>\n",
       "      <td>6.000000</td>\n",
       "      <td>6.000000</td>\n",
       "      <td>6.000000</td>\n",
       "    </tr>\n",
       "    <tr>\n",
       "      <th>mean</th>\n",
       "      <td>4.753333</td>\n",
       "      <td>9.780672e+12</td>\n",
       "      <td>1322.666667</td>\n",
       "      <td>24122.666667</td>\n",
       "      <td>430.000000</td>\n",
       "    </tr>\n",
       "    <tr>\n",
       "      <th>std</th>\n",
       "      <td>0.041793</td>\n",
       "      <td>1.850730e+08</td>\n",
       "      <td>1421.230828</td>\n",
       "      <td>13261.232622</td>\n",
       "      <td>351.679968</td>\n",
       "    </tr>\n",
       "    <tr>\n",
       "      <th>min</th>\n",
       "      <td>4.710000</td>\n",
       "      <td>9.780440e+12</td>\n",
       "      <td>96.000000</td>\n",
       "      <td>3613.000000</td>\n",
       "      <td>85.000000</td>\n",
       "    </tr>\n",
       "    <tr>\n",
       "      <th>25%</th>\n",
       "      <td>4.722500</td>\n",
       "      <td>9.780515e+12</td>\n",
       "      <td>176.000000</td>\n",
       "      <td>17492.500000</td>\n",
       "      <td>195.500000</td>\n",
       "    </tr>\n",
       "    <tr>\n",
       "      <th>50%</th>\n",
       "      <td>4.745000</td>\n",
       "      <td>9.780741e+12</td>\n",
       "      <td>816.000000</td>\n",
       "      <td>26058.500000</td>\n",
       "      <td>296.500000</td>\n",
       "    </tr>\n",
       "    <tr>\n",
       "      <th>75%</th>\n",
       "      <td>4.775000</td>\n",
       "      <td>9.780812e+12</td>\n",
       "      <td>2381.500000</td>\n",
       "      <td>31220.250000</td>\n",
       "      <td>681.750000</td>\n",
       "    </tr>\n",
       "    <tr>\n",
       "      <th>max</th>\n",
       "      <td>4.820000</td>\n",
       "      <td>9.780836e+12</td>\n",
       "      <td>3342.000000</td>\n",
       "      <td>41428.000000</td>\n",
       "      <td>930.000000</td>\n",
       "    </tr>\n",
       "  </tbody>\n",
       "</table>\n",
       "</div>"
      ],
      "text/plain": [
       "       average_rating        isbn13    num_pages  ratings_count  \\\n",
       "count        6.000000  6.000000e+00     6.000000       6.000000   \n",
       "mean         4.753333  9.780672e+12  1322.666667   24122.666667   \n",
       "std          0.041793  1.850730e+08  1421.230828   13261.232622   \n",
       "min          4.710000  9.780440e+12    96.000000    3613.000000   \n",
       "25%          4.722500  9.780515e+12   176.000000   17492.500000   \n",
       "50%          4.745000  9.780741e+12   816.000000   26058.500000   \n",
       "75%          4.775000  9.780812e+12  2381.500000   31220.250000   \n",
       "max          4.820000  9.780836e+12  3342.000000   41428.000000   \n",
       "\n",
       "       text_reviews_count  \n",
       "count            6.000000  \n",
       "mean           430.000000  \n",
       "std            351.679968  \n",
       "min             85.000000  \n",
       "25%            195.500000  \n",
       "50%            296.500000  \n",
       "75%            681.750000  \n",
       "max            930.000000  "
      ]
     },
     "execution_count": 16,
     "metadata": {},
     "output_type": "execute_result"
    }
   ],
   "source": [
    "popularBooks.describe() #ToDo"
   ]
  },
  {
   "cell_type": "markdown",
   "id": "9a3eb663",
   "metadata": {
    "id": "9a3eb663"
   },
   "source": [
    "## Part 4"
   ]
  },
  {
   "cell_type": "markdown",
   "id": "6b28966c",
   "metadata": {
    "id": "6b28966c"
   },
   "source": [
    "### 4.1 **Which are 7 most popular book languages(language_code) in this dataset?**\n",
    "**Print the `language_code` and count of the 7 highest occuring languages in the dataset.** (Hint - `<dataframe>.<column-name>` gives you a series. With this, can you use [value_counts()](https://https://pandas.pydata.org/docs/reference/api/pandas.Series.value_counts.html) to get the answer? ) [1pt]"
   ]
  },
  {
   "cell_type": "code",
   "execution_count": 17,
   "id": "c39d3e46",
   "metadata": {
    "id": "c39d3e46"
   },
   "outputs": [
    {
     "name": "stdout",
     "output_type": "stream",
     "text": [
      "eng      8908\n",
      "en-US    1408\n",
      "spa       218\n",
      "en-GB     214\n",
      "fre       144\n",
      "ger        99\n",
      "jpn        46\n",
      "Name: language_code, dtype: int64\n"
     ]
    }
   ],
   "source": [
    "language_code = books.language_code.value_counts() #ToDo\n",
    "print(language_code.head(7))"
   ]
  },
  {
   "cell_type": "markdown",
   "id": "63fbfb39",
   "metadata": {
    "id": "63fbfb39"
   },
   "source": [
    "### 4.2 **Find number of books that have an average rating within 2 standard deviations from mean average rating of the entire dataset.** \n",
    "[Standard deviation](https://en.wikipedia.org/wiki/Standard_deviation) tells you how spread out the data is. It is a measure of how far each observed value is from the mean. In any distribution, about 95% of values will be within 2 standard deviations of the mean.\n",
    "Hence, for the given task, we want to find the number of books who have an average rating from `mean-2*std_dev` to `mean+2*std_dev`. [1pt]\n"
   ]
  },
  {
   "cell_type": "code",
   "execution_count": 18,
   "id": "c2dd8fce",
   "metadata": {
    "id": "c2dd8fce"
   },
   "outputs": [
    {
     "name": "stdout",
     "output_type": "stream",
     "text": [
      "10854\n"
     ]
    }
   ],
   "source": [
    "mean = books['average_rating'].mean()\n",
    "std_dev = books['average_rating'].std()\n",
    "Stdv_books = books[ (books['average_rating'] >= mean-2*std_dev) & (books['average_rating'] <= mean+2*std_dev)]   #ToDo\n",
    "print(len(Stdv_books))"
   ]
  },
  {
   "cell_type": "markdown",
   "id": "c1a850fd",
   "metadata": {
    "id": "c1a850fd"
   },
   "source": [
    "### 4.3 **Find books with language code as 'ger' and whose publication date is between 2001 and 2005. (Optional)**\n",
    "(Hint - How do we get the year from the publication date in its current form? Can we use [pd.to_datetime](https://https://pandas.pydata.org/docs/reference/api/pandas.to_datetime.html) to extract what we need for this task?) "
   ]
  },
  {
   "cell_type": "code",
   "execution_count": 19,
   "id": "a0d8de0c",
   "metadata": {
    "id": "a0d8de0c"
   },
   "outputs": [],
   "source": [
    "#ToDo"
   ]
  }
 ],
 "metadata": {
  "colab": {
   "collapsed_sections": [],
   "provenance": []
  },
  "kernelspec": {
   "display_name": "Python 3",
   "language": "python",
   "name": "python3"
  },
  "language_info": {
   "codemirror_mode": {
    "name": "ipython",
    "version": 3
   },
   "file_extension": ".py",
   "mimetype": "text/x-python",
   "name": "python",
   "nbconvert_exporter": "python",
   "pygments_lexer": "ipython3",
   "version": "3.9.2"
  }
 },
 "nbformat": 4,
 "nbformat_minor": 5
}
