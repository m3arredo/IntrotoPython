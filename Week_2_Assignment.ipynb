{
 "cells": [
  {
   "cell_type": "markdown",
   "metadata": {
    "id": "so0LIQvvFA5q"
   },
   "source": [
    "## Instructions\n",
    "\n",
    "\n",
    "*   You can complete the assignment in Jupyter/Colab\n",
    "*   If you are using Colab, make a copy of the notebook in your own drive\n",
    "*   To make a submission - \n",
    "  *  Run cells such that relevant outputs are visible\n",
    "  *  Download the source ipynb file for submission\n",
    "  *  Upload to gradescope\n",
    "\n",
    "\n",
    "\n",
    "\n"
   ]
  },
  {
   "cell_type": "markdown",
   "metadata": {
    "id": "uyXJ4Mw_T_Zu"
   },
   "source": [
    "### 0. Import Numpy\n"
   ]
  },
  {
   "cell_type": "code",
   "execution_count": 1,
   "metadata": {
    "id": "vMoSe3u-6dAy"
   },
   "outputs": [],
   "source": [
    "import numpy as np #ToDo"
   ]
  },
  {
   "cell_type": "markdown",
   "metadata": {
    "id": "4wJ3sPyRAwYY"
   },
   "source": [
    "### 1. Random array\n",
    "\n",
    "Generate an integer random numpy array, A, of shape (3,5) with elements from 5 to 26(inclusive). Print the generated random array. (Hint: Look at the documentation of `numpy.random.randint`) [1 pt]"
   ]
  },
  {
   "cell_type": "code",
   "execution_count": 2,
   "metadata": {
    "id": "q21FOpwULOdS"
   },
   "outputs": [
    {
     "data": {
      "text/plain": [
       "array([[16, 15, 17, 11, 19],\n",
       "       [26, 11,  5,  7, 21],\n",
       "       [10, 22, 11, 17, 15]])"
      ]
     },
     "execution_count": 2,
     "metadata": {},
     "output_type": "execute_result"
    }
   ],
   "source": [
    "a = np.random.randint(5,27 , size=(3,5)) #ToDo\n",
    "a"
   ]
  },
  {
   "cell_type": "markdown",
   "metadata": {
    "id": "Nl6HpYKmA2cC"
   },
   "source": [
    "### 2. Transpose and inverse of the array `A` \n",
    "\n",
    "1. The transpose of an array is created by using the first row of the array as the first column of the new array, the second row of the array as the second column of the new array, and so on. **Print the transpose of A using numpy.** Note - you should not write your own transpose function for this step. [0.5 pt]\n",
    "\n",
    "For eg. The transpose of \n",
    "\n",
    "    x = array([[26,  9, 24,  7, 15],\n",
    "              [17, 15, 21, 18, 24],\n",
    "              [ 5, 15, 10, 15, 13]])\n",
    "\n",
    "    xT = array([[26, 17,  5],\n",
    "                [ 9, 15, 15],\n",
    "                [24, 21, 10],\n",
    "                [ 7, 18, 15],\n",
    "               [15, 24, 13]])"
   ]
  },
  {
   "cell_type": "code",
   "execution_count": 3,
   "metadata": {
    "id": "hQzuvPq8MNVP"
   },
   "outputs": [
    {
     "data": {
      "text/plain": [
       "array([[16, 26, 10],\n",
       "       [15, 11, 22],\n",
       "       [17,  5, 11],\n",
       "       [11,  7, 17],\n",
       "       [19, 21, 15]])"
      ]
     },
     "execution_count": 3,
     "metadata": {},
     "output_type": "execute_result"
    }
   ],
   "source": [
    "aT = np.transpose(a) #ToDo\n",
    "aT"
   ]
  },
  {
   "cell_type": "markdown",
   "metadata": {
    "id": "bR1Eh1opKXhB"
   },
   "source": [
    "2. Generate a integer random numpy array B, of shape (2,2) with elements from 5 to 12(inclusive). Print B."
   ]
  },
  {
   "cell_type": "code",
   "execution_count": 4,
   "metadata": {
    "id": "C5x6pdWEMTDA"
   },
   "outputs": [
    {
     "data": {
      "text/plain": [
       "array([[11,  6],\n",
       "       [12,  8]])"
      ]
     },
     "execution_count": 4,
     "metadata": {},
     "output_type": "execute_result"
    }
   ],
   "source": [
    "b = np.random.randint(5,13 , size=(2,2))#ToDo\n",
    "b"
   ]
  },
  {
   "cell_type": "markdown",
   "metadata": {
    "id": "RTNFli4DU8NI"
   },
   "source": [
    "Like numbers, matrices do have reciprocals. In case of matrices, this reciprocal is called inverse matrix. If A is a square matrix and B is its inverse, then the product of two matrices is equal to the unit matrix. **Print the inverse of B using numpy.** (Hint: look up documentation for linalg library in numpy) [0.5 pt]\n",
    "\n",
    "For eg. \n",
    "      \n",
    "      Inverse of \n",
    "      x=array([[10,  6],\n",
    "              [ 5,  5]])\n",
    "       \n",
    "      x_inv=array([[ 0.25, -0.3 ],\n",
    "                  [-0.25,  0.5 ]])\n"
   ]
  },
  {
   "cell_type": "code",
   "execution_count": 5,
   "metadata": {
    "id": "KQa_Z7hJMdhA"
   },
   "outputs": [
    {
     "data": {
      "text/plain": [
       "array([[ 0.5   , -0.375 ],\n",
       "       [-0.75  ,  0.6875]])"
      ]
     },
     "execution_count": 5,
     "metadata": {},
     "output_type": "execute_result"
    }
   ],
   "source": [
    "b_inv = np.linalg.inv(b) #ToDo\n",
    "b_inv"
   ]
  },
  {
   "cell_type": "markdown",
   "metadata": {
    "id": "z1K5Bb_YA6BI"
   },
   "source": [
    "### 3. Array slicing\n",
    "1. Slicing in python means taking elements from one given index to another given index. **Print the last 2 columns of array A.** [0.5 pt]\n",
    "\n",
    "For eg. for the above array A - the last 2 columns are\n",
    "\n",
    "    array([[ 7, 15],\n",
    "            [18, 24],\n",
    "            [15, 13]])"
   ]
  },
  {
   "cell_type": "code",
   "execution_count": 6,
   "metadata": {
    "id": "gdGansp3Mvp4"
   },
   "outputs": [
    {
     "name": "stdout",
     "output_type": "stream",
     "text": [
      "[[11 19]\n",
      " [ 7 21]\n",
      " [17 15]]\n"
     ]
    }
   ],
   "source": [
    "print (a[:, 3:5] )#ToDo"
   ]
  },
  {
   "cell_type": "markdown",
   "metadata": {
    "id": "M3fhDXVjA-aE"
   },
   "source": [
    "2. Print the 2nd and 3rd rows of array A.  [0.5 pt]\n",
    "\n",
    "For eg. for the above array A, the 2nd and 3rd rows are\n",
    "\n",
    "      array([[17, 15, 21, 18, 24],\n",
    "            [ 5, 15, 10, 15, 13]])"
   ]
  },
  {
   "cell_type": "code",
   "execution_count": 7,
   "metadata": {
    "id": "RBt_ToI-NYjf"
   },
   "outputs": [
    {
     "name": "stdout",
     "output_type": "stream",
     "text": [
      "[[26 11  5  7 21]\n",
      " [10 22 11 17 15]]\n"
     ]
    }
   ],
   "source": [
    "print ( a[1:3 , :])#ToDo"
   ]
  },
  {
   "cell_type": "markdown",
   "metadata": {
    "id": "BWn8ZBo_BDAp"
   },
   "source": [
    "### 4. Broadcasting\n",
    "\n",
    "1. Broadcasting describes how NumPy treats arrays with different shapes during arithmetic operations. Subject to certain constraints, the smaller array is “broadcast” across the larger array so that they have compatible shapes. Below you can see the difference between vector addition for traditional lists and numpy arrays.\n",
    "\n",
    "\n"
   ]
  },
  {
   "cell_type": "code",
   "execution_count": 8,
   "metadata": {
    "id": "vFb-w52qZ1bq"
   },
   "outputs": [
    {
     "data": {
      "text/plain": [
       "[[28, 13, 30, 15, 25], [19, 19, 27, 26, 34], [7, 19, 16, 23, 23]]"
      ]
     },
     "execution_count": 8,
     "metadata": {},
     "output_type": "execute_result"
    }
   ],
   "source": [
    "# If we were not using numpy arrays, we would have to loop through the array. Run this cell.\n",
    "arr= [[27, 11, 27, 11, 20],\n",
    "       [18, 17, 24, 22, 29],\n",
    "       [ 6, 17, 13, 19, 18]]\n",
    "c= [1,2,3,4,5]\n",
    "for row in range(len(arr)):\n",
    "  for col in range(len(arr[0])):\n",
    "    arr[row][col] = arr[row][col]+c[col]\n",
    "arr"
   ]
  },
  {
   "cell_type": "markdown",
   "metadata": {
    "id": "IIUI0EpjZ42S"
   },
   "source": [
    "\n",
    "**Create a vector `c=[1,2,3,4,5]`. Add this vector to array `a` using numpy broadcasting. Print the result.**  [0.5 pt]\n",
    "\n",
    "For eg. for the array A - the result array would be\n",
    "\n",
    "    array([[27, 11, 27, 11, 20],\n",
    "          [18, 17, 24, 22, 29],\n",
    "          [ 6, 17, 13, 19, 18]])\n",
    "\n"
   ]
  },
  {
   "cell_type": "code",
   "execution_count": 9,
   "metadata": {
    "id": "l2qynQwLNptk"
   },
   "outputs": [
    {
     "data": {
      "text/plain": [
       "array([[17, 17, 20, 15, 24],\n",
       "       [27, 13,  8, 11, 26],\n",
       "       [11, 24, 14, 21, 20]])"
      ]
     },
     "execution_count": 9,
     "metadata": {},
     "output_type": "execute_result"
    }
   ],
   "source": [
    "c = np.array([[1, 2 ,3, 4, 5] ] )#ToDo\n",
    "a + c"
   ]
  },
  {
   "cell_type": "markdown",
   "metadata": {
    "id": "F7ovRSJELw8u"
   },
   "source": [
    "2. **(True / False) Is it possible to add array b to a? Explain why?**  [0.5 pt]"
   ]
  },
  {
   "cell_type": "markdown",
   "metadata": {
    "id": "rbZntmdfPlhB"
   },
   "source": [
    "False. This is not possible since is a size (3,5) and b is size (2,2). These sizes cannot be broadcoasted to each other. If B was size (3,1), it could be broadcasted. The other possibility is the size of c which is (1,5). "
   ]
  },
  {
   "cell_type": "markdown",
   "metadata": {
    "id": "BSI_6uRXBGK9"
   },
   "source": [
    "### 5. Reshaping\n",
    "\n",
    "**Create a list `B=[1,2,3]` and add it to all the columns of `a`. Print the resulting array** (Hint: Use reshape and broadcasting)  [1 pt]\n",
    "\n",
    "For eg. for the modified array A, the result would be\n",
    "\n",
    "    array([[28, 12, 28, 12, 21],\n",
    "          [20, 19, 26, 24, 31],\n",
    "          [ 9, 20, 16, 22, 21]])"
   ]
  },
  {
   "cell_type": "code",
   "execution_count": 10,
   "metadata": {
    "id": "7PHf61u9OXjF"
   },
   "outputs": [
    {
     "data": {
      "text/plain": [
       "array([[17, 16, 18, 12, 20],\n",
       "       [28, 13,  7,  9, 23],\n",
       "       [13, 25, 14, 20, 18]])"
      ]
     },
     "execution_count": 10,
     "metadata": {},
     "output_type": "execute_result"
    }
   ],
   "source": [
    "b = [1,2,3] #ToDo\n",
    "b = np.array(b).reshape(3,1)\n",
    "a + b"
   ]
  },
  {
   "cell_type": "markdown",
   "metadata": {
    "id": "h9n4jAfCT86m"
   },
   "source": [
    "### 6. Data analysis using numpy\n",
    "\n",
    "**Normalization: Substract mean from each row of array `a`. Print the result array.**. (Hint: look at numpy's mean method and it's arguments) [2 pt]\n",
    "\n",
    "For eg. for the modified array A, the expected output would be\n",
    "\n",
    "    array([[ 7.8, -8.2,  7.8, -8.2,  0.8],\n",
    "          [-4. , -5. ,  2. ,  0. ,  7. ],\n",
    "          [-8.6,  2.4, -1.6,  4.4,  3.4]])"
   ]
  },
  {
   "cell_type": "code",
   "execution_count": 11,
   "metadata": {
    "id": "ZThEwtgOPcuW"
   },
   "outputs": [
    {
     "data": {
      "text/plain": [
       "array([[ 0.4, -0.6,  1.4, -4.6,  3.4],\n",
       "       [12. , -3. , -9. , -7. ,  7. ],\n",
       "       [-5. ,  7. , -4. ,  2. ,  0. ]])"
      ]
     },
     "execution_count": 11,
     "metadata": {},
     "output_type": "execute_result"
    }
   ],
   "source": [
    "a_mean = a.mean(axis= 1) #ToDo\n",
    "a_mean = a_mean.reshape(3,1)\n",
    "a - a_mean"
   ]
  },
  {
   "cell_type": "markdown",
   "metadata": {
    "id": "ziRQUDSmVJxV"
   },
   "source": [
    "### 7. Data manipulation in numpy arrays.\n",
    "\n",
    "**Swap first and second row of array `a`. Print the result array.** [0.5 pt] \n",
    "\n",
    "For eg. for the modified array `a` the expected output would be\n",
    "\n",
    "    array([[20, 19, 26, 24, 31],\n",
    "          [28, 12, 28, 12, 21],\n",
    "          [ 9, 20, 16, 22, 21]])\n"
   ]
  },
  {
   "cell_type": "code",
   "execution_count": 12,
   "metadata": {
    "id": "DtmS9ftFSRW0"
   },
   "outputs": [
    {
     "data": {
      "text/plain": [
       "array([[26, 11,  5,  7, 21],\n",
       "       [16, 15, 17, 11, 19],\n",
       "       [10, 22, 11, 17, 15]])"
      ]
     },
     "execution_count": 12,
     "metadata": {},
     "output_type": "execute_result"
    }
   ],
   "source": [
    "a[ [0,1],: ] = a[ [1,0],: ]#ToDo\n",
    "a"
   ]
  },
  {
   "cell_type": "markdown",
   "metadata": {
    "id": "N46ndTN7ebmw"
   },
   "source": [
    "**Swap second and third column of array `a`. Print the result array.**  [0.5 pt]\n",
    "\n",
    "For eg. for the modified array `a` the expected output would be\n",
    "   \n",
    "    array([[20, 26, 19, 24, 31],\n",
    "          [28, 28, 12, 12, 21],\n",
    "          [ 9, 16, 20, 22, 21]])"
   ]
  },
  {
   "cell_type": "code",
   "execution_count": 13,
   "metadata": {
    "id": "gA5sQr52QGgM"
   },
   "outputs": [
    {
     "data": {
      "text/plain": [
       "array([[26,  5, 11,  7, 21],\n",
       "       [16, 17, 15, 11, 19],\n",
       "       [10, 11, 22, 17, 15]])"
      ]
     },
     "execution_count": 13,
     "metadata": {},
     "output_type": "execute_result"
    }
   ],
   "source": [
    "a[ :,[1,2] ] = a[ :,[2,1] ]#ToDo\n",
    "a"
   ]
  },
  {
   "cell_type": "markdown",
   "metadata": {
    "id": "hJ-qg1NqQCk8"
   },
   "source": [
    "### The Power Of Numpy"
   ]
  },
  {
   "cell_type": "code",
   "execution_count": 14,
   "metadata": {
    "id": "C6h4z_D7Pl5y"
   },
   "outputs": [],
   "source": [
    "#Run this cell\n",
    "import time"
   ]
  },
  {
   "cell_type": "code",
   "execution_count": 15,
   "metadata": {
    "id": "XJGpXcx4dVUG"
   },
   "outputs": [],
   "source": [
    "#Run this cell\n",
    "twoD_list = [[i for i in range(500)] for j in range(500)]"
   ]
  },
  {
   "cell_type": "code",
   "execution_count": 16,
   "metadata": {
    "id": "7MIMNrEcJk8A"
   },
   "outputs": [],
   "source": [
    "#Run this cell\n",
    "#This a traditional matrix multiplication using for loops\n",
    "def matrix_multiplication(x, y):\n",
    "    dp = 0\n",
    "    prod=[]\n",
    "    for i in range(len(x)):\n",
    "      row=[]\n",
    "      for j in range(len(x[0])):\n",
    "        mul=0\n",
    "        for k in range(len(x[0])):\n",
    "          mul += (x[i][k]*y[k][j])\n",
    "        row.append(mul)\n",
    "      prod.append(row)\n",
    "      \n",
    "    return prod"
   ]
  },
  {
   "cell_type": "code",
   "execution_count": 17,
   "metadata": {
    "id": "ZC4QpMOZG6Kh"
   },
   "outputs": [
    {
     "name": "stdout",
     "output_type": "stream",
     "text": [
      "14.75593876838684\n"
     ]
    }
   ],
   "source": [
    "#Run this cell. Note the time taken to perform traditional matrix multiplication using lists.\n",
    "start_time=time.time()\n",
    "dot_product_list = matrix_multiplication(twoD_list, twoD_list)\n",
    "end_time=time.time()\n",
    "print(end_time-start_time)"
   ]
  },
  {
   "cell_type": "markdown",
   "metadata": {
    "id": "fOJt4uiBRaCm"
   },
   "source": [
    "**Convert the `twoD_list` to a numpy array `numpy_twoD_array`. Print the numpy array**\n",
    "\n",
    "For eg. \n",
    "\n",
    "    numpy_twoD = array([[  0,   1,   2, ..., 497, 498, 499],\n",
    "                        [  0,   1,   2, ..., 497, 498, 499],\n",
    "                        [  0,   1,   2, ..., 497, 498, 499],\n",
    "                         ...,\n",
    "                        [  0,   1,   2, ..., 497, 498, 499],\n",
    "                        [  0,   1,   2, ..., 497, 498, 499],\n",
    "                        [  0,   1,   2, ..., 497, 498, 499]])"
   ]
  },
  {
   "cell_type": "code",
   "execution_count": 18,
   "metadata": {
    "id": "RST2DbgjHL26"
   },
   "outputs": [
    {
     "data": {
      "text/plain": [
       "array([[  0,   1,   2, ..., 497, 498, 499],\n",
       "       [  0,   1,   2, ..., 497, 498, 499],\n",
       "       [  0,   1,   2, ..., 497, 498, 499],\n",
       "       ...,\n",
       "       [  0,   1,   2, ..., 497, 498, 499],\n",
       "       [  0,   1,   2, ..., 497, 498, 499],\n",
       "       [  0,   1,   2, ..., 497, 498, 499]])"
      ]
     },
     "execution_count": 18,
     "metadata": {},
     "output_type": "execute_result"
    }
   ],
   "source": [
    "numpy_twoD_array= np.array(twoD_list)#ToDo\n",
    "numpy_twoD_array"
   ]
  },
  {
   "cell_type": "markdown",
   "metadata": {
    "id": "YyCZeJ8VRnRe"
   },
   "source": [
    "**Perform matrix multiplication of the numpy array i.e. numpy_twoD_array * numpy_twoD_array. Record and report the time taken for the operation similar to traditional list multiplication.**  [2 pt]\n",
    "\n"
   ]
  },
  {
   "cell_type": "code",
   "execution_count": 19,
   "metadata": {
    "id": "uOKV8C_8HqzJ"
   },
   "outputs": [
    {
     "name": "stdout",
     "output_type": "stream",
     "text": [
      "0.30904102325439453\n"
     ]
    }
   ],
   "source": [
    "start_time=time.time();\n",
    "matrix_mult = np.matmul(numpy_twoD_array,numpy_twoD_array) # ToDo - Insert matrix multiplication using numpy of num_arr with itself\n",
    "\n",
    "end_time=time.time();\n",
    "print(end_time-start_time)"
   ]
  }
 ],
 "metadata": {
  "colab": {
   "provenance": []
  },
  "kernelspec": {
   "display_name": "Python 3",
   "language": "python",
   "name": "python3"
  },
  "language_info": {
   "codemirror_mode": {
    "name": "ipython",
    "version": 3
   },
   "file_extension": ".py",
   "mimetype": "text/x-python",
   "name": "python",
   "nbconvert_exporter": "python",
   "pygments_lexer": "ipython3",
   "version": "3.9.2"
  }
 },
 "nbformat": 4,
 "nbformat_minor": 4
}
