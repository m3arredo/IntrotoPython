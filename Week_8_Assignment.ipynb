{
 "cells": [
  {
   "cell_type": "markdown",
   "metadata": {
    "id": "oT0u26qVEND9"
   },
   "source": [
    "## Imports"
   ]
  },
  {
   "cell_type": "code",
   "execution_count": 3,
   "metadata": {
    "id": "uH_bW7qT-6-E"
   },
   "outputs": [],
   "source": [
    "import numpy as np #Todo\n",
    "import pandas as pd\n",
    "import matplotlib.pyplot as plt\n",
    "import seaborn as sns "
   ]
  },
  {
   "cell_type": "markdown",
   "metadata": {
    "id": "EgfcIVBXEMI8"
   },
   "source": [
    "# 1. Clustering"
   ]
  },
  {
   "cell_type": "markdown",
   "metadata": {
    "id": "ho4RlKbjEYdd",
    "tags": []
   },
   "source": [
    "#### 1.1 In this part of the assignment you will be working with a very popular dataset in machine learning - IRIS. Use the [sqlite format of this dataset](https://drive.google.com/file/d/1F9h0SZbQj4TFk-loQwKF_XlZ-SGSyOVt/view?usp=sharing) to load the data in the notebook and convert it into a pandas dataframe. Refer to the video lectures to perform the necessary steps. [1 pt]\n",
    "\n",
    "1. Import sqlite3\n",
    "2. Create a conn object\n",
    "3. Create a cursor"
   ]
  },
  {
   "cell_type": "code",
   "execution_count": 4,
   "metadata": {},
   "outputs": [],
   "source": [
    "import os\n",
    "data_iris_folder_content = os.listdir(\"iris\")"
   ]
  },
  {
   "cell_type": "code",
   "execution_count": 5,
   "metadata": {
    "id": "YP_Vl1FRFeSa"
   },
   "outputs": [],
   "source": [
    "import sqlite3\n",
    "conn = sqlite3.connect('iris/database.sqlite') #create connection to db\n",
    "cursor = conn.cursor()"
   ]
  },
  {
   "cell_type": "code",
   "execution_count": 6,
   "metadata": {},
   "outputs": [
    {
     "data": {
      "text/plain": [
       "[('Iris',), ('movie',)]"
      ]
     },
     "execution_count": 6,
     "metadata": {},
     "output_type": "execute_result"
    }
   ],
   "source": [
    "# columns in our data\n",
    "cursor.execute(\"SELECT name FROM sqlite_master\").fetchall()"
   ]
  },
  {
   "cell_type": "code",
   "execution_count": 7,
   "metadata": {},
   "outputs": [],
   "source": [
    "iris_data = pd.read_sql_query (\"SELECT * FROM Iris\", conn)"
   ]
  },
  {
   "cell_type": "markdown",
   "metadata": {
    "id": "miDgTz2rGtpT"
   },
   "source": [
    "1.2 Using the cursor, execute an SQL query that print the rows that have Petal Width greater than 2cm. [1 pt]"
   ]
  },
  {
   "cell_type": "code",
   "execution_count": 8,
   "metadata": {},
   "outputs": [
    {
     "data": {
      "text/plain": [
       "[(101, 6.3, 3.3, 6, 2.5, 'Iris-virginica'),\n",
       " (103, 7.1, 3, 5.9, 2.1, 'Iris-virginica'),\n",
       " (105, 6.5, 3, 5.8, 2.2, 'Iris-virginica'),\n",
       " (106, 7.6, 3, 6.6, 2.1, 'Iris-virginica'),\n",
       " (110, 7.2, 3.6, 6.1, 2.5, 'Iris-virginica'),\n",
       " (113, 6.8, 3, 5.5, 2.1, 'Iris-virginica'),\n",
       " (115, 5.8, 2.8, 5.1, 2.4, 'Iris-virginica'),\n",
       " (116, 6.4, 3.2, 5.3, 2.3, 'Iris-virginica'),\n",
       " (118, 7.7, 3.8, 6.7, 2.2, 'Iris-virginica'),\n",
       " (119, 7.7, 2.6, 6.9, 2.3, 'Iris-virginica'),\n",
       " (121, 6.9, 3.2, 5.7, 2.3, 'Iris-virginica'),\n",
       " (125, 6.7, 3.3, 5.7, 2.1, 'Iris-virginica'),\n",
       " (129, 6.4, 2.8, 5.6, 2.1, 'Iris-virginica'),\n",
       " (133, 6.4, 2.8, 5.6, 2.2, 'Iris-virginica'),\n",
       " (136, 7.7, 3, 6.1, 2.3, 'Iris-virginica'),\n",
       " (137, 6.3, 3.4, 5.6, 2.4, 'Iris-virginica'),\n",
       " (140, 6.9, 3.1, 5.4, 2.1, 'Iris-virginica'),\n",
       " (141, 6.7, 3.1, 5.6, 2.4, 'Iris-virginica'),\n",
       " (142, 6.9, 3.1, 5.1, 2.3, 'Iris-virginica'),\n",
       " (144, 6.8, 3.2, 5.9, 2.3, 'Iris-virginica'),\n",
       " (145, 6.7, 3.3, 5.7, 2.5, 'Iris-virginica'),\n",
       " (146, 6.7, 3, 5.2, 2.3, 'Iris-virginica'),\n",
       " (149, 6.2, 3.4, 5.4, 2.3, 'Iris-virginica')]"
      ]
     },
     "execution_count": 8,
     "metadata": {},
     "output_type": "execute_result"
    }
   ],
   "source": [
    "cursor.execute('SELECT * FROM Iris where PetalWidthCm > 2').fetchall()"
   ]
  },
  {
   "cell_type": "markdown",
   "metadata": {
    "id": "vmsAlzTJG5-H"
   },
   "source": [
    "1.3 For our KMeans clustering task, read only the following columns into a dataframe `X`.\n",
    "\n",
    "1. SepalLengthCm\t\n",
    "2. SepalWidthCm\t\n",
    "3. PetalLengthCm\t\n",
    "4. PetalWidthCm \n",
    "\n",
    "Print the head() of `X`. [1 pt]"
   ]
  },
  {
   "cell_type": "code",
   "execution_count": 10,
   "metadata": {
    "id": "OXs2ATrvGLiw"
   },
   "outputs": [],
   "source": [
    "X = iris_data.drop(columns = ['Id','Species'])"
   ]
  },
  {
   "cell_type": "code",
   "execution_count": 11,
   "metadata": {},
   "outputs": [
    {
     "data": {
      "text/html": [
       "<div>\n",
       "<style scoped>\n",
       "    .dataframe tbody tr th:only-of-type {\n",
       "        vertical-align: middle;\n",
       "    }\n",
       "\n",
       "    .dataframe tbody tr th {\n",
       "        vertical-align: top;\n",
       "    }\n",
       "\n",
       "    .dataframe thead th {\n",
       "        text-align: right;\n",
       "    }\n",
       "</style>\n",
       "<table border=\"1\" class=\"dataframe\">\n",
       "  <thead>\n",
       "    <tr style=\"text-align: right;\">\n",
       "      <th></th>\n",
       "      <th>SepalLengthCm</th>\n",
       "      <th>SepalWidthCm</th>\n",
       "      <th>PetalLengthCm</th>\n",
       "      <th>PetalWidthCm</th>\n",
       "    </tr>\n",
       "  </thead>\n",
       "  <tbody>\n",
       "    <tr>\n",
       "      <th>0</th>\n",
       "      <td>5.1</td>\n",
       "      <td>3.5</td>\n",
       "      <td>1.4</td>\n",
       "      <td>0.2</td>\n",
       "    </tr>\n",
       "    <tr>\n",
       "      <th>1</th>\n",
       "      <td>4.9</td>\n",
       "      <td>3.0</td>\n",
       "      <td>1.4</td>\n",
       "      <td>0.2</td>\n",
       "    </tr>\n",
       "    <tr>\n",
       "      <th>2</th>\n",
       "      <td>4.7</td>\n",
       "      <td>3.2</td>\n",
       "      <td>1.3</td>\n",
       "      <td>0.2</td>\n",
       "    </tr>\n",
       "    <tr>\n",
       "      <th>3</th>\n",
       "      <td>4.6</td>\n",
       "      <td>3.1</td>\n",
       "      <td>1.5</td>\n",
       "      <td>0.2</td>\n",
       "    </tr>\n",
       "    <tr>\n",
       "      <th>4</th>\n",
       "      <td>5.0</td>\n",
       "      <td>3.6</td>\n",
       "      <td>1.4</td>\n",
       "      <td>0.2</td>\n",
       "    </tr>\n",
       "  </tbody>\n",
       "</table>\n",
       "</div>"
      ],
      "text/plain": [
       "   SepalLengthCm  SepalWidthCm  PetalLengthCm  PetalWidthCm\n",
       "0            5.1           3.5            1.4           0.2\n",
       "1            4.9           3.0            1.4           0.2\n",
       "2            4.7           3.2            1.3           0.2\n",
       "3            4.6           3.1            1.5           0.2\n",
       "4            5.0           3.6            1.4           0.2"
      ]
     },
     "execution_count": 11,
     "metadata": {},
     "output_type": "execute_result"
    }
   ],
   "source": [
    "X.head()"
   ]
  },
  {
   "cell_type": "markdown",
   "metadata": {
    "id": "SyJZTIvxHecr"
   },
   "source": [
    "#### 1.4 Defining the model\n",
    "\n",
    "Import and define a model using <a href='http://scikit-learn.org/stable/modules/generated/sklearn.cluster.KMeans.html'>sklearn.cluster.kmeans</a> [0.5 pt].<br>\n",
    "**Pick any value for the number of clusters for now.**<br> \n"
   ]
  },
  {
   "cell_type": "code",
   "execution_count": 12,
   "metadata": {
    "id": "mYyNgRN0BI_j"
   },
   "outputs": [],
   "source": [
    "from sklearn.cluster import KMeans\n",
    "from sklearn import metrics"
   ]
  },
  {
   "cell_type": "code",
   "execution_count": 13,
   "metadata": {},
   "outputs": [],
   "source": [
    "num_clusters = 4\n",
    "Kmean = KMeans(n_clusters = num_clusters)"
   ]
  },
  {
   "cell_type": "markdown",
   "metadata": {
    "id": "O_2TtOcgHzvb"
   },
   "source": [
    "#### 1.5 [Fit and predict](https://scikit-learn.org/stable/modules/generated/sklearn.cluster.KMeans.html#sklearn.cluster.KMeans.fit_predict) the kmeans model on `X`. Print the predicted values. [0.5 pt]"
   ]
  },
  {
   "cell_type": "code",
   "execution_count": 14,
   "metadata": {
    "id": "Kle75XBuFGi_"
   },
   "outputs": [
    {
     "data": {
      "text/plain": [
       "array([1, 1, 1, 1, 1, 1, 1, 1, 1, 1, 1, 1, 1, 1, 1, 1, 1, 1, 1, 1, 1, 1,\n",
       "       1, 1, 1, 1, 1, 1, 1, 1, 1, 1, 1, 1, 1, 1, 1, 1, 1, 1, 1, 1, 1, 1,\n",
       "       1, 1, 1, 1, 1, 1, 3, 3, 3, 0, 3, 0, 3, 0, 3, 0, 0, 0, 0, 3, 0, 3,\n",
       "       0, 0, 3, 0, 3, 0, 3, 3, 3, 3, 3, 3, 3, 0, 0, 0, 0, 3, 0, 3, 3, 3,\n",
       "       0, 0, 0, 3, 0, 0, 0, 0, 0, 3, 0, 0, 2, 3, 2, 3, 2, 2, 0, 2, 2, 2,\n",
       "       3, 3, 2, 3, 3, 2, 2, 2, 2, 3, 2, 3, 2, 3, 2, 2, 3, 3, 2, 2, 2, 2,\n",
       "       2, 3, 3, 2, 2, 3, 3, 2, 2, 2, 3, 2, 2, 2, 3, 3, 2, 3])"
      ]
     },
     "execution_count": 14,
     "metadata": {},
     "output_type": "execute_result"
    }
   ],
   "source": [
    "model = Kmean.fit(X) \n",
    "Kmean.labels_"
   ]
  },
  {
   "cell_type": "markdown",
   "metadata": {
    "id": "Ez-Z0uGqEtb0"
   },
   "source": [
    "#### 1.6 Print the center points of the clusters that the model created. (Hint - look into the documentation to see how we can easily find it) [0.5 pt]"
   ]
  },
  {
   "cell_type": "code",
   "execution_count": 15,
   "metadata": {
    "id": "p6DbKfYnFIbE"
   },
   "outputs": [
    {
     "data": {
      "text/plain": [
       "array([[5.53214286, 2.63571429, 3.96071429, 1.22857143],\n",
       "       [5.006     , 3.418     , 1.464     , 0.244     ],\n",
       "       [6.95      , 3.10666667, 5.86666667, 2.15333333],\n",
       "       [6.25714286, 2.86190476, 4.85      , 1.63333333]])"
      ]
     },
     "execution_count": 15,
     "metadata": {},
     "output_type": "execute_result"
    }
   ],
   "source": [
    "Kmean.cluster_centers_#ToDo"
   ]
  },
  {
   "cell_type": "markdown",
   "metadata": {
    "id": "S1_NE5oOKLIH"
   },
   "source": [
    "#### 1.7 Find the [silhouette score](https://scikit-learn.org/stable/modules/generated/sklearn.metrics.silhouette_score.html) of the the data using the current model. [0.5 pt]"
   ]
  },
  {
   "cell_type": "code",
   "execution_count": 16,
   "metadata": {
    "id": "Kzta3_NNFLPf"
   },
   "outputs": [
    {
     "data": {
      "text/plain": [
       "0.49699284998335724"
      ]
     },
     "execution_count": 16,
     "metadata": {},
     "output_type": "execute_result"
    }
   ],
   "source": [
    "metrics.silhouette_score(X , Kmean.labels_ )"
   ]
  },
  {
   "cell_type": "markdown",
   "metadata": {
    "id": "yo0kZGFALzNq"
   },
   "source": [
    "## Visualization"
   ]
  },
  {
   "cell_type": "code",
   "execution_count": 17,
   "metadata": {
    "id": "gnBysZNBBRTk"
   },
   "outputs": [
    {
     "data": {
      "image/png": "[encoded data removed]",
      "text/plain": [
       "<Figure size 432x288 with 1 Axes>"
      ]
     },
     "metadata": {
      "needs_background": "light"
     },
     "output_type": "display_data"
    }
   ],
   "source": [
    "#Run this cell to see clusters being formed for pairs of features. Make sure to have as many colors as k and you have used similar naming of variables (update the cell below if not).\n",
    "plt.scatter(data=X, x='SepalLengthCm', y='SepalWidthCm')\n",
    "colors = ['r', 'y', 'b', 'c', 'm', 'g', 'k', 'w','orange']\n",
    "for i, coor in enumerate(Kmean.cluster_centers_):\n",
    "  plt.scatter(coor[0], coor[1], s=200, c=colors[i], marker='s')\n",
    "plt.show()"
   ]
  },
  {
   "cell_type": "markdown",
   "metadata": {
    "id": "OpLr0VkgKhaW"
   },
   "source": [
    "### Experimentation\n",
    "\n",
    "We chose an arbitrary value of k for the above experiment. In the lecture videos, we saw that elbow method is one of the ways to make a better guess for the value of k, although not always useful."
   ]
  },
  {
   "cell_type": "code",
   "execution_count": 18,
   "metadata": {
    "id": "D8zPL4YHAnns"
   },
   "outputs": [],
   "source": [
    "#Run this cell. Make sure you update the variable names if required.\n",
    "from sklearn.cluster import KMeans\n",
    "wcss = []\n",
    "\n",
    "for i in range(1, 10): #Specify for which values of k you want to try\n",
    "    kmeans = KMeans(n_clusters = i, init = 'k-means++', max_iter = 300, n_init = 10, random_state = 0)\n",
    "    Kmean.fit(X)\n",
    "    wcss.append(Kmean.inertia_)"
   ]
  },
  {
   "cell_type": "code",
   "execution_count": 20,
   "metadata": {
    "id": "KcQI-N8BA4FG"
   },
   "outputs": [
    {
     "data": {
      "image/png": "[encoded data removed]",
      "text/plain": [
       "<Figure size 432x288 with 1 Axes>"
      ]
     },
     "metadata": {
      "needs_background": "light"
     },
     "output_type": "display_data"
    }
   ],
   "source": [
    "#Run this cell\n",
    "plt.plot(range(1, 10), wcss) #Specify for which values of k you want to try\n",
    "plt.title('Elbow method - Line chart')\n",
    "plt.xlabel('Number of clusters')\n",
    "plt.ylabel('WCSS') #within cluster sum of squares\n",
    "plt.show()"
   ]
  },
  {
   "cell_type": "markdown",
   "metadata": {
    "id": "QMjB5KX7LOQ1"
   },
   "source": [
    "#### 1.8 Based on the videos, what can you infer from the elbow graph created? what should be a good value of k (number of clusters)? [0.5 pt]"
   ]
  },
  {
   "cell_type": "markdown",
   "metadata": {
    "id": "_4aybNTuB5bP"
   },
   "source": [
    "The graph does not show an elbow shape, but from the lecture videos, we can infer that a good value of k to determine the optimal number of clusters is the value of k at the “elbow”. This is the point after which WCSS start decreasing in a linear fashion. "
   ]
  },
  {
   "cell_type": "markdown",
   "metadata": {
    "id": "q6WC7k6yMCDq"
   },
   "source": [
    "## Part 2: Regression (Consumer Goods Data and Investments Data)\n",
    "\n",
    "We will perform linear regression to use our financial data to predict projected investments."
   ]
  },
  {
   "cell_type": "markdown",
   "metadata": {
    "id": "q2L-BwYoMPde"
   },
   "source": [
    "### 2.1 Datasets\n",
    "We'll be using the a merged [dataset](https://drive.google.com/file/d/17tyrmrUQYaiia3zY6YgQy8LIUuM37hrd/view?usp=sharing) consisting of consumer_goods and investments and try to predict the Percentage Investment using Linear Regression. The dataset can be found here. Load this dataset into a dataframe `goods_investments` and have a look at it using head, info and describe methods. [0.5 pt]<br>\n",
    "<br><br>\n"
   ]
  },
  {
   "cell_type": "code",
   "execution_count": 18,
   "metadata": {
    "id": "x5G8kiP1MDW2"
   },
   "outputs": [],
   "source": [
    "good_investments = pd.read_csv('goods_investments.csv')#ToDo"
   ]
  },
  {
   "cell_type": "markdown",
   "metadata": {
    "id": "MzvhrTeaMbWu"
   },
   "source": [
    "### 2.2 Train and test split [1 pt]\n",
    "1. Shuffle your data (optional)\n",
    "2. Partition it into an 80%/20% train/test split using train_test_split.<br>\n",
    "\n",
    "Note: The store number column would not likely contribute towards a prediction. Hence, it would be better to drop the column before splitting.\n",
    "\n",
    "X_train and X_test should have these columns: `Convenience`, `Shopping`, `Specialty`, `Unsought`, `Other`<br>\n",
    "y_train and y_test should have this column: `Percentage Investment`<br>\n",
    "<br><br> \n"
   ]
  },
  {
   "cell_type": "code",
   "execution_count": 19,
   "metadata": {},
   "outputs": [],
   "source": [
    "from sklearn.model_selection import train_test_split\n",
    "from sklearn.linear_model import LinearRegression\n",
    "from sklearn.metrics import mean_squared_error\n",
    "from math import sqrt"
   ]
  },
  {
   "cell_type": "code",
   "execution_count": 20,
   "metadata": {
    "id": "tCvzK2hOMY2M"
   },
   "outputs": [],
   "source": [
    "del good_investments['Store Number'] #ToDo"
   ]
  },
  {
   "cell_type": "code",
   "execution_count": 21,
   "metadata": {},
   "outputs": [],
   "source": [
    "X = good_investments.drop(columns = ['Percentage Investment'])\n",
    "y = good_investments['Percentage Investment']\n",
    "\n",
    "X_train, X_test , y_train, y_test = train_test_split(X, y , test_size = 0.2, random_state= 0)"
   ]
  },
  {
   "cell_type": "markdown",
   "metadata": {
    "id": "jTnK0npkMmuo"
   },
   "source": [
    "#### 2.3 Print out the shapes of X_train, X_test, y_train, y_test [0.5 pt]"
   ]
  },
  {
   "cell_type": "code",
   "execution_count": 22,
   "metadata": {
    "id": "2mZlxCKkGRoy"
   },
   "outputs": [
    {
     "name": "stdout",
     "output_type": "stream",
     "text": [
      "(3708, 5)\n",
      "(928, 5)\n",
      "(3708,)\n",
      "(928,)\n"
     ]
    }
   ],
   "source": [
    "print(X_train.shape)\n",
    "print(X_test.shape)\n",
    "print(y_train.shape)\n",
    "print(y_test.shape)"
   ]
  },
  {
   "cell_type": "markdown",
   "metadata": {
    "id": "8mcisI8YMky6"
   },
   "source": [
    "#### 2.4 Fit a regressor\n",
    "\n",
    "Create a <a href=\"http://scikit-learn.org/stable/modules/generated/sklearn.linear_model.LinearRegression.html\">linear regression model</a> and fit it to your training dataset. [0.5 pt]<br>\n"
   ]
  },
  {
   "cell_type": "code",
   "execution_count": 23,
   "metadata": {
    "id": "Kkmh9N2vMlOd"
   },
   "outputs": [
    {
     "data": {
      "text/plain": [
       "LinearRegression()"
      ]
     },
     "execution_count": 23,
     "metadata": {},
     "output_type": "execute_result"
    }
   ],
   "source": [
    "Lin_reg = LinearRegression() \n",
    "Lin_reg.fit(X_train, y_train)"
   ]
  },
  {
   "cell_type": "markdown",
   "metadata": {
    "id": "6325tlYcMsDb"
   },
   "source": [
    "#### 2.5 Use your model to predict on your test set. [0.5 pt]\n"
   ]
  },
  {
   "cell_type": "code",
   "execution_count": 24,
   "metadata": {
    "id": "71r72SyPMpcd"
   },
   "outputs": [],
   "source": [
    "predictions = Lin_reg.predict(X_test)"
   ]
  },
  {
   "cell_type": "markdown",
   "metadata": {
    "id": "Fmmjjq3LMzxA"
   },
   "source": [
    "#### 2.6 Report the RMSE of the prediction. (The [MSE](https://scikit-learn.org/stable/modules/generated/sklearn.metrics.mean_squared_error.html) library is useful. Note - We want to find the root of MSE). [0.5 pt]"
   ]
  },
  {
   "cell_type": "code",
   "execution_count": 25,
   "metadata": {
    "id": "saEa6UNXGVl3"
   },
   "outputs": [],
   "source": [
    "rmse = sqrt(mean_squared_error(predictions, y_test))"
   ]
  },
  {
   "cell_type": "markdown",
   "metadata": {
    "id": "L_hyqagHM0pr"
   },
   "source": [
    "#### 2.7 Print the intercept value of the linear regression, along with the coefficients of each of the input features. [1 pt]"
   ]
  },
  {
   "cell_type": "code",
   "execution_count": 26,
   "metadata": {
    "id": "Y9bRcSSGMugV"
   },
   "outputs": [
    {
     "name": "stdout",
     "output_type": "stream",
     "text": [
      "coefficients -> [ 5.33393119e-05  1.98406363e-04 -6.29195409e-05 -8.21475100e-05\n",
      " -7.70129178e-06]\n"
     ]
    }
   ],
   "source": [
    "print(\"coefficients ->\" , Lin_reg.coef_)"
   ]
  },
  {
   "cell_type": "code",
   "execution_count": 27,
   "metadata": {},
   "outputs": [
    {
     "name": "stdout",
     "output_type": "stream",
     "text": [
      " Convenience : 5.333931189969148e-05\n",
      "   Shopping : 0.0001984063628381367\n",
      "  Specialty : -6.291954093917769e-05\n",
      "   Unsought : -8.214750999926725e-05\n",
      "      Other : -7.701291775003021e-06\n"
     ]
    }
   ],
   "source": [
    "for i,name in enumerate (X.columns): \n",
    "    print(f' {name: >10} : {Lin_reg.coef_[i] }' )"
   ]
  }
 ],
 "metadata": {
  "colab": {
   "provenance": []
  },
  "kernelspec": {
   "display_name": "Python 3",
   "language": "python",
   "name": "python3"
  },
  "language_info": {
   "codemirror_mode": {
    "name": "ipython",
    "version": 3
   },
   "file_extension": ".py",
   "mimetype": "text/x-python",
   "name": "python",
   "nbconvert_exporter": "python",
   "pygments_lexer": "ipython3",
   "version": "3.9.2"
  }
 },
 "nbformat": 4,
 "nbformat_minor": 4
}
